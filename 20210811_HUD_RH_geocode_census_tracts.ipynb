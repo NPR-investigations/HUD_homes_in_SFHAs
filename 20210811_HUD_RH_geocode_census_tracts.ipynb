{
 "cells": [
  {
   "cell_type": "markdown",
   "metadata": {},
   "source": []
  },
  {
   "cell_type": "code",
   "execution_count": null,
   "metadata": {},
   "outputs": [],
   "source": [
    "import pandas as pd\n",
    "import requests\n",
    "import urllib3\n",
    "import csv\n",
    "import time\n",
    "import re\n",
    "import numpy as np\n",
    "from random import randint\n",
    "from pandas import json_normalize\n",
    "import os"
   ]
  },
  {
   "cell_type": "code",
   "execution_count": null,
   "metadata": {},
   "outputs": [],
   "source": [
    "pd.set_option('display.max_columns', None)\n",
    "pd.set_option('display.max_rows', None)\n",
    "path = os.getcwd()\n",
    "os.chdir(path)"
   ]
  },
  {
   "cell_type": "code",
   "execution_count": null,
   "metadata": {},
   "outputs": [],
   "source": [
    "def get_json(url):\n",
    "    r = requests.get(url)\n",
    "    time.sleep(randint(1,3))\n",
    "    result = json_normalize(r.json())\n",
    "    return (result)"
   ]
  },
  {
   "cell_type": "code",
   "execution_count": null,
   "metadata": {},
   "outputs": [],
   "source": [
    "records = pd.read_excel('HUD_records_for_geocodio.xlsx')"
   ]
  },
  {
   "cell_type": "markdown",
   "metadata": {},
   "source": [
    "Using census geocoder to get census tracts of addresses"
   ]
  },
  {
   "cell_type": "markdown",
   "metadata": {},
   "source": [
    "samples url\n",
    "https://geocoding.geo.census.gov/geocoder/geographies/address?street=100%20KINGSBURY%20LANE&city=GLASTONBURY&state=CT&zip=6033&benchmark=4&vintage=4&format=json"
   ]
  },
  {
   "cell_type": "code",
   "execution_count": null,
   "metadata": {},
   "outputs": [],
   "source": [
    "records.head()"
   ]
  },
  {
   "cell_type": "code",
   "execution_count": null,
   "metadata": {},
   "outputs": [],
   "source": [
    "for col in records.columns:\n",
    "    records[col] = records[col].str.strip()"
   ]
  },
  {
   "cell_type": "code",
   "execution_count": null,
   "metadata": {},
   "outputs": [],
   "source": [
    "records['url'] = ['https://geocoding.geo.census.gov/geocoder/geographies/address?street='+ x + '&city=' + y + '&state=' + z + '&zip=' + a + '&benchmark=4&vintage=4&format=json' for (x,y,z,a) in zip(records.Address, records.City, records.State, records.zip5)]"
   ]
  },
  {
   "cell_type": "code",
   "execution_count": null,
   "metadata": {},
   "outputs": [],
   "source": [
    "censusdf = pd.DataFrame()"
   ]
  },
  {
   "cell_type": "code",
   "execution_count": null,
   "metadata": {},
   "outputs": [],
   "source": [
    "for url in list(records.url):\n",
    "    try:\n",
    "        js = get_json(url)\n",
    "        df = pd.DataFrame(js['result.addressMatches'].iloc[0][0]['geographies']['Census Tracts'])\n",
    "        df['url'] = url\n",
    "        censusdf = censusdf.append(df)\n",
    "        print (list(records.url).index(url))\n",
    "    except Exception:\n",
    "        standin = {'url': url}\n",
    "        df = pd.DataFrame(standin, index = [0])\n",
    "        censusdf = censusdf.append(df)\n",
    "        print (list(records.url).index(url))\n",
    "        print ('error')"
   ]
  },
  {
   "cell_type": "code",
   "execution_count": null,
   "metadata": {},
   "outputs": [],
   "source": [
    "censusdf1.to_csv('20210120_census_tract_extract.csv')"
   ]
  }
 ],
 "metadata": {
  "kernelspec": {
   "display_name": "Python 3",
   "language": "python",
   "name": "python3"
  },
  "language_info": {
   "codemirror_mode": {
    "name": "ipython",
    "version": 3
   },
   "file_extension": ".py",
   "mimetype": "text/x-python",
   "name": "python",
   "nbconvert_exporter": "python",
   "pygments_lexer": "ipython3",
   "version": "3.6.12"
  }
 },
 "nbformat": 4,
 "nbformat_minor": 4
}
