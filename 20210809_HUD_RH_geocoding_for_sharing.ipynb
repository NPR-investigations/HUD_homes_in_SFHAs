{
 "cells": [
  {
   "cell_type": "markdown",
   "metadata": {},
   "source": [
    "# Identifying HUD homes in Special Flood Hazard Areas\n",
    "In the records released to NPR in September 2020, HUD provided a dataset with addresses, latitudes and longitudes, as well as other variables like sales price, but not the geographic cooridnate system used. <br>\n",
    "\n",
    "Spot checking shows that the latitudes and longitudes provided, regardless of GCS is assumed, can be far off from the results given by other geocoding services like Google Maps. Therefore, we used coordinates provided by the following geocoders in addition to HUD's coordinates, assuming both NAD83 and WGS84, to join with FEMA's flood maps. \n",
    "\n",
    "- [Census Geocoder](https://geocoding.geo.census.gov/geocoder/geographies/addressbatch?form)\n",
    "- [Geocodio](https://www.geocod.io/)\n",
    "- [ArcGIS geocoding services](https://pro.arcgis.com/en/pro-app/latest/help/data/geocoding/convert-a-table-to-locations-on-the-map.htm ), credits from ESRI's media program. This is what FEMA uses on its [website](https://msc.fema.gov/portal/home) to determine whether an address is in the SFHA. We run addresses that haven't been joined with a flood map status and addresses that have conflicting SFHA indicators from the aforementioned spatial joins through ArcGIS to get a final determination of SFHA status.\n",
    "\n",
    "We later learned that HUD uses WGS84, after most of this analysis has been completed. "
   ]
  },
  {
   "cell_type": "code",
   "execution_count": 1,
   "metadata": {},
   "outputs": [],
   "source": [
    "import pandas as pd\n",
    "import csv\n",
    "import numpy as np\n",
    "from functools import reduce\n",
    "import glob\n",
    "import os"
   ]
  },
  {
   "cell_type": "code",
   "execution_count": 2,
   "metadata": {},
   "outputs": [],
   "source": [
    "pd.set_option('display.max_columns', None)\n",
    "pd.set_option('display.max_rows', None)\n",
    "path = os. getcwd() "
    "os.chdir(path)"
   ]
  },
  {
   "cell_type": "markdown",
   "metadata": {},
   "source": [
    "## Importing coordinates\n",
    "### Original HUD coordinates"
   ]
  },
  {
   "cell_type": "code",
   "execution_count": 3,
   "metadata": {},
   "outputs": [],
   "source": [
    "hud_data = pd.read_excel('Production from HUD in Excel(116202349_1).xlsx')"
   ]
  },
  {
   "cell_type": "code",
   "execution_count": 4,
   "metadata": {},
   "outputs": [
    {
     "name": "stdout",
     "output_type": "stream",
     "text": [
      "<class 'pandas.core.frame.DataFrame'>\n",
      "RangeIndex: 95567 entries, 0 to 95566\n",
      "Data columns (total 11 columns):\n",
      " #   Column            Non-Null Count  Dtype         \n",
      "---  ------            --------------  -----         \n",
      " 0   Date  Acquired    95567 non-null  datetime64[ns]\n",
      " 1   Date  Reconciled  95567 non-null  datetime64[ns]\n",
      " 2   Date  Closed      95567 non-null  datetime64[ns]\n",
      " 3   List Price        95567 non-null  float64       \n",
      " 4   Sales Price       95567 non-null  float64       \n",
      " 5   Address           95567 non-null  object        \n",
      " 6   City              95567 non-null  object        \n",
      " 7   State             95567 non-null  object        \n",
      " 8   ZIP               95567 non-null  object        \n",
      " 9   MAP LATITUDE      95567 non-null  object        \n",
      " 10  MAP LONGITUDE     95538 non-null  float64       \n",
      "dtypes: datetime64[ns](3), float64(3), object(5)\n",
      "memory usage: 8.0+ MB\n"
     ]
    }
   ],
   "source": [
    "hud_data.info()"
   ]
  },
  {
   "cell_type": "code",
   "execution_count": 5,
   "metadata": {},
   "outputs": [],
   "source": [
    "addrcnt = pd.DataFrame(hud_data.groupby(['Address','City','State','ZIP'])['Date  Acquired'].count())"
   ]
  },
  {
   "cell_type": "code",
   "execution_count": 6,
   "metadata": {},
   "outputs": [
    {
     "data": {
      "text/html": [
       "<div>\n",
       "<style scoped>\n",
       "    .dataframe tbody tr th:only-of-type {\n",
       "        vertical-align: middle;\n",
       "    }\n",
       "\n",
       "    .dataframe tbody tr th {\n",
       "        vertical-align: top;\n",
       "    }\n",
       "\n",
       "    .dataframe thead th {\n",
       "        text-align: right;\n",
       "    }\n",
       "</style>\n",
       "<table border=\"1\" class=\"dataframe\">\n",
       "  <thead>\n",
       "    <tr style=\"text-align: right;\">\n",
       "      <th></th>\n",
       "      <th></th>\n",
       "      <th></th>\n",
       "      <th></th>\n",
       "      <th>Date  Acquired</th>\n",
       "    </tr>\n",
       "    <tr>\n",
       "      <th>Address</th>\n",
       "      <th>City</th>\n",
       "      <th>State</th>\n",
       "      <th>ZIP</th>\n",
       "      <th></th>\n",
       "    </tr>\n",
       "  </thead>\n",
       "  <tbody>\n",
       "    <tr>\n",
       "      <th>1021 HONEY LN</th>\n",
       "      <th>SEVIERVILLE</th>\n",
       "      <th>TN</th>\n",
       "      <th>37876-0000</th>\n",
       "      <td>2</td>\n",
       "    </tr>\n",
       "    <tr>\n",
       "      <th>115 W SOUTHWEST CT</th>\n",
       "      <th>SHELBYVILLE</th>\n",
       "      <th>IN</th>\n",
       "      <th>46176-0000</th>\n",
       "      <td>2</td>\n",
       "    </tr>\n",
       "    <tr>\n",
       "      <th>1215 72ND ST</th>\n",
       "      <th>NEWPORT NEWS</th>\n",
       "      <th>VA</th>\n",
       "      <th>23605-0000</th>\n",
       "      <td>2</td>\n",
       "    </tr>\n",
       "    <tr>\n",
       "      <th>1905 W RUNYAN AVE</th>\n",
       "      <th>ARTESIA</th>\n",
       "      <th>NM</th>\n",
       "      <th>88210-0000</th>\n",
       "      <td>2</td>\n",
       "    </tr>\n",
       "    <tr>\n",
       "      <th>335 S CHARLES ST</th>\n",
       "      <th>LIMA</th>\n",
       "      <th>OH</th>\n",
       "      <th>45805-0000</th>\n",
       "      <td>2</td>\n",
       "    </tr>\n",
       "    <tr>\n",
       "      <th>609 HICKORY LN</th>\n",
       "      <th>SEAFORD</th>\n",
       "      <th>DE</th>\n",
       "      <th>19973-0000</th>\n",
       "      <td>2</td>\n",
       "    </tr>\n",
       "  </tbody>\n",
       "</table>\n",
       "</div>"
      ],
      "text/plain": [
       "                                                                                               Date  Acquired\n",
       "Address                                            City                      State ZIP                       \n",
       "1021 HONEY LN                                      SEVIERVILLE               TN    37876-0000               2\n",
       "115 W SOUTHWEST CT                                 SHELBYVILLE               IN    46176-0000               2\n",
       "1215 72ND ST                                       NEWPORT NEWS              VA    23605-0000               2\n",
       "1905 W RUNYAN AVE                                  ARTESIA                   NM    88210-0000               2\n",
       "335 S CHARLES ST                                   LIMA                      OH    45805-0000               2\n",
       "609 HICKORY LN                                     SEAFORD                   DE    19973-0000               2"
      ]
     },
     "execution_count": 6,
     "metadata": {},
     "output_type": "execute_result"
    }
   ],
   "source": [
    "addrcnt[addrcnt['Date  Acquired'] != 1]\n",
    "#some homes have wound up at HUD's for twice in this timeframe. "
   ]
  },
  {
   "cell_type": "code",
   "execution_count": 7,
   "metadata": {
    "scrolled": true
   },
   "outputs": [
    {
     "data": {
      "text/html": [
       "<div>\n",
       "<style scoped>\n",
       "    .dataframe tbody tr th:only-of-type {\n",
       "        vertical-align: middle;\n",
       "    }\n",
       "\n",
       "    .dataframe tbody tr th {\n",
       "        vertical-align: top;\n",
       "    }\n",
       "\n",
       "    .dataframe thead th {\n",
       "        text-align: right;\n",
       "    }\n",
       "</style>\n",
       "<table border=\"1\" class=\"dataframe\">\n",
       "  <thead>\n",
       "    <tr style=\"text-align: right;\">\n",
       "      <th></th>\n",
       "      <th>Date  Acquired</th>\n",
       "      <th>Date  Reconciled</th>\n",
       "      <th>Date  Closed</th>\n",
       "      <th>List Price</th>\n",
       "      <th>Sales Price</th>\n",
       "      <th>Address</th>\n",
       "      <th>City</th>\n",
       "      <th>State</th>\n",
       "      <th>ZIP</th>\n",
       "      <th>MAP LATITUDE</th>\n",
       "      <th>MAP LONGITUDE</th>\n",
       "    </tr>\n",
       "  </thead>\n",
       "  <tbody>\n",
       "    <tr>\n",
       "      <th>77891</th>\n",
       "      <td>2017-02-23</td>\n",
       "      <td>2018-02-14</td>\n",
       "      <td>2018-02-12</td>\n",
       "      <td>90000.0</td>\n",
       "      <td>96000.0</td>\n",
       "      <td>1021 HONEY LN                                 ...</td>\n",
       "      <td>SEVIERVILLE</td>\n",
       "      <td>TN</td>\n",
       "      <td>37876-0000</td>\n",
       "      <td>35.882</td>\n",
       "      <td>-83.554133</td>\n",
       "    </tr>\n",
       "    <tr>\n",
       "      <th>78293</th>\n",
       "      <td>2019-09-24</td>\n",
       "      <td>2020-03-18</td>\n",
       "      <td>2020-03-13</td>\n",
       "      <td>168000.0</td>\n",
       "      <td>140000.0</td>\n",
       "      <td>1021 HONEY LN                                 ...</td>\n",
       "      <td>SEVIERVILLE</td>\n",
       "      <td>TN</td>\n",
       "      <td>37876-0000</td>\n",
       "      <td>35.8819</td>\n",
       "      <td>-83.554273</td>\n",
       "    </tr>\n",
       "  </tbody>\n",
       "</table>\n",
       "</div>"
      ],
      "text/plain": [
       "      Date  Acquired Date  Reconciled Date  Closed  List Price  Sales Price  \\\n",
       "77891     2017-02-23       2018-02-14   2018-02-12     90000.0      96000.0   \n",
       "78293     2019-09-24       2020-03-18   2020-03-13    168000.0     140000.0   \n",
       "\n",
       "                                                 Address  \\\n",
       "77891  1021 HONEY LN                                 ...   \n",
       "78293  1021 HONEY LN                                 ...   \n",
       "\n",
       "                            City State         ZIP MAP LATITUDE  MAP LONGITUDE  \n",
       "77891  SEVIERVILLE                  TN  37876-0000       35.882     -83.554133  \n",
       "78293  SEVIERVILLE                  TN  37876-0000      35.8819     -83.554273  "
      ]
     },
     "execution_count": 7,
     "metadata": {},
     "output_type": "execute_result"
    }
   ],
   "source": [
    "# this particular address have two different latitdes and longitudes too. Dropping one of them later.\n",
    "hud_data[hud_data.Address.str.contains('1021 HONEY LN')]"
   ]
  },
  {
   "cell_type": "code",
   "execution_count": 8,
   "metadata": {},
   "outputs": [],
   "source": [
    "hud = hud_data.iloc[:,5:].copy()\n",
    "hud.columns = [x.lower().replace(' ','_') for x in hud.columns]\n",
    "hud.columns = ['hud_' + x for x in hud.columns]\n",
    "hud = hud.rename(columns = {'hud_address':'address','hud_city':'city','hud_state':'state','hud_zip':'zip'})\n",
    "hud.zip = [x.split('-')[0] for x in hud.zip]\n",
    "# Dropping the address with two lat longs\n",
    "hud = hud.drop(77891)\n",
    "hud = hud.drop_duplicates()"
   ]
  },
  {
   "cell_type": "code",
   "execution_count": 9,
   "metadata": {},
   "outputs": [
    {
     "name": "stdout",
     "output_type": "stream",
     "text": [
      "<class 'pandas.core.frame.DataFrame'>\n",
      "Int64Index: 95561 entries, 0 to 95566\n",
      "Data columns (total 6 columns):\n",
      " #   Column             Non-Null Count  Dtype  \n",
      "---  ------             --------------  -----  \n",
      " 0   address            95561 non-null  object \n",
      " 1   city               95561 non-null  object \n",
      " 2   state              95561 non-null  object \n",
      " 3   zip                95561 non-null  object \n",
      " 4   hud_map_latitude   95561 non-null  object \n",
      " 5   hud_map_longitude  95532 non-null  float64\n",
      "dtypes: float64(1), object(5)\n",
      "memory usage: 5.1+ MB\n"
     ]
    }
   ],
   "source": [
    "hud.info()"
   ]
  },
  {
   "cell_type": "markdown",
   "metadata": {},
   "source": [
    "### HUD homes addresses used to run through geocoders"
   ]
  },
  {
   "cell_type": "code",
   "execution_count": 10,
   "metadata": {},
   "outputs": [],
   "source": [
    "records = pd.read_excel('HUD_records_for_geocodio.xlsx')"
   ]
  },
  {
   "cell_type": "code",
   "execution_count": 11,
   "metadata": {},
   "outputs": [],
   "source": [
    "records = records.reset_index()"
   ]
  },
  {
   "cell_type": "code",
   "execution_count": 12,
   "metadata": {},
   "outputs": [],
   "source": [
    "records['zip5'] = [x.split('-')[0] for x in records.ZIP]\n",
    "records = records.drop('ZIP', axis = 1)"
   ]
  },
  {
   "cell_type": "code",
   "execution_count": 13,
   "metadata": {},
   "outputs": [
    {
     "data": {
      "text/html": [
       "<div>\n",
       "<style scoped>\n",
       "    .dataframe tbody tr th:only-of-type {\n",
       "        vertical-align: middle;\n",
       "    }\n",
       "\n",
       "    .dataframe tbody tr th {\n",
       "        vertical-align: top;\n",
       "    }\n",
       "\n",
       "    .dataframe thead th {\n",
       "        text-align: right;\n",
       "    }\n",
       "</style>\n",
       "<table border=\"1\" class=\"dataframe\">\n",
       "  <thead>\n",
       "    <tr style=\"text-align: right;\">\n",
       "      <th></th>\n",
       "      <th>index</th>\n",
       "      <th>Address</th>\n",
       "      <th>City</th>\n",
       "      <th>State</th>\n",
       "      <th>zip5</th>\n",
       "    </tr>\n",
       "  </thead>\n",
       "  <tbody>\n",
       "    <tr>\n",
       "      <th>0</th>\n",
       "      <td>0</td>\n",
       "      <td>700 18TH PL SW                                ...</td>\n",
       "      <td>BIRMINGHAM</td>\n",
       "      <td>AL</td>\n",
       "      <td>35211</td>\n",
       "    </tr>\n",
       "    <tr>\n",
       "      <th>1</th>\n",
       "      <td>1</td>\n",
       "      <td>3765 NARROW LANE RD                           ...</td>\n",
       "      <td>MONTGOMERY</td>\n",
       "      <td>AL</td>\n",
       "      <td>36111</td>\n",
       "    </tr>\n",
       "    <tr>\n",
       "      <th>2</th>\n",
       "      <td>2</td>\n",
       "      <td>2125-27 ARLINGTON A                          ...</td>\n",
       "      <td>BESSEMER</td>\n",
       "      <td>AL</td>\n",
       "      <td>35020</td>\n",
       "    </tr>\n",
       "    <tr>\n",
       "      <th>3</th>\n",
       "      <td>3</td>\n",
       "      <td>3349 HERBERT DRIVE                            ...</td>\n",
       "      <td>MONTGOMERY</td>\n",
       "      <td>AL</td>\n",
       "      <td>36116</td>\n",
       "    </tr>\n",
       "    <tr>\n",
       "      <th>4</th>\n",
       "      <td>4</td>\n",
       "      <td>3101 AVENUE H                                 ...</td>\n",
       "      <td>BIRMINGHAM</td>\n",
       "      <td>AL</td>\n",
       "      <td>35218</td>\n",
       "    </tr>\n",
       "  </tbody>\n",
       "</table>\n",
       "</div>"
      ],
      "text/plain": [
       "   index                                            Address  \\\n",
       "0      0  700 18TH PL SW                                ...   \n",
       "1      1  3765 NARROW LANE RD                           ...   \n",
       "2      2   2125-27 ARLINGTON A                          ...   \n",
       "3      3  3349 HERBERT DRIVE                            ...   \n",
       "4      4  3101 AVENUE H                                 ...   \n",
       "\n",
       "                        City State   zip5  \n",
       "0  BIRMINGHAM                   AL  35211  \n",
       "1  MONTGOMERY                   AL  36111  \n",
       "2  BESSEMER                     AL  35020  \n",
       "3  MONTGOMERY                   AL  36116  \n",
       "4  BIRMINGHAM                   AL  35218  "
      ]
     },
     "execution_count": 13,
     "metadata": {},
     "output_type": "execute_result"
    }
   ],
   "source": [
    "records.head()"
   ]
  },
  {
   "cell_type": "markdown",
   "metadata": {},
   "source": [
    "### Census coordinates\n",
    "It has a 10,000 query limit<br>"
   ]
  },
  {
   "cell_type": "code",
   "execution_count": 14,
   "metadata": {},
   "outputs": [],
   "source": [
    "path = r'census_geocoder' \n",
    "all_files = glob.glob(path + \"/*.csv\")\n",
    "\n",
    "li = []\n",
    "\n",
    "for filename in all_files:\n",
    "    df = pd.read_csv(filename, index_col=None, header=None,engine = 'python')\n",
    "    li.append(df)"
   ]
  },
  {
   "cell_type": "code",
   "execution_count": 15,
   "metadata": {},
   "outputs": [
    {
     "data": {
      "text/plain": [
       "['census_geocoder\\\\geocoderesult1.csv',\n",
       " 'census_geocoder\\\\geocoderesult10.csv',\n",
       " 'census_geocoder\\\\geocoderesult2.csv',\n",
       " 'census_geocoder\\\\geocoderesult3.csv',\n",
       " 'census_geocoder\\\\geocoderesult4.csv',\n",
       " 'census_geocoder\\\\geocoderesult5.csv',\n",
       " 'census_geocoder\\\\geocoderesult6.csv',\n",
       " 'census_geocoder\\\\geocoderesult7.csv',\n",
       " 'census_geocoder\\\\geocoderesult8.csv',\n",
       " 'census_geocoder\\\\geocoderesult9.csv']"
      ]
     },
     "execution_count": 15,
     "metadata": {},
     "output_type": "execute_result"
    }
   ],
   "source": [
    "all_files"
   ]
  },
  {
   "cell_type": "code",
   "execution_count": 16,
   "metadata": {},
   "outputs": [],
   "source": [
    "results1 = pd.read_csv('census_geocoder/geocoderesult1.csv')"
   ]
  },
  {
   "cell_type": "code",
   "execution_count": 17,
   "metadata": {},
   "outputs": [],
   "source": [
    "# some results need to have their indeces reset\n",
    "li[1] = li[1].reset_index()\n",
    "li[2] = li[2].reset_index()"
   ]
  },
  {
   "cell_type": "code",
   "execution_count": 18,
   "metadata": {},
   "outputs": [],
   "source": [
    "for df in li:\n",
    "    df.columns = ['id','input_addr','match_range','match_type','output_addr','lat_long','tiger_line_id','tiger_line_id_side']"
   ]
  },
  {
   "cell_type": "code",
   "execution_count": 19,
   "metadata": {},
   "outputs": [],
   "source": [
    "frame = pd.concat(li, axis=0, ignore_index=True)\n",
    "frame.columns = ['census_'+ x for x in frame.columns]"
   ]
  },
  {
   "cell_type": "code",
   "execution_count": 20,
   "metadata": {},
   "outputs": [],
   "source": [
    "recordscensus = pd.merge(records, frame, left_on = 'index', right_on = 'census_id', how = 'outer')"
   ]
  },
  {
   "cell_type": "code",
   "execution_count": 21,
   "metadata": {},
   "outputs": [
    {
     "name": "stdout",
     "output_type": "stream",
     "text": [
      "<class 'pandas.core.frame.DataFrame'>\n",
      "Int64Index: 95567 entries, 0 to 95566\n",
      "Data columns (total 13 columns):\n",
      " #   Column                     Non-Null Count  Dtype  \n",
      "---  ------                     --------------  -----  \n",
      " 0   index                      95567 non-null  int64  \n",
      " 1   Address                    95567 non-null  object \n",
      " 2   City                       95567 non-null  object \n",
      " 3   State                      95567 non-null  object \n",
      " 4   zip5                       95567 non-null  object \n",
      " 5   census_id                  95567 non-null  int64  \n",
      " 6   census_input_addr          95567 non-null  object \n",
      " 7   census_match_range         95567 non-null  object \n",
      " 8   census_match_type          81248 non-null  object \n",
      " 9   census_output_addr         81248 non-null  object \n",
      " 10  census_lat_long            81248 non-null  object \n",
      " 11  census_tiger_line_id       81248 non-null  float64\n",
      " 12  census_tiger_line_id_side  81248 non-null  object \n",
      "dtypes: float64(1), int64(2), object(10)\n",
      "memory usage: 10.2+ MB\n"
     ]
    }
   ],
   "source": [
    "recordscensus.info()"
   ]
  },
  {
   "cell_type": "code",
   "execution_count": 22,
   "metadata": {},
   "outputs": [],
   "source": [
    "census = recordscensus[['Address', 'City', 'State', 'zip5','census_lat_long']].copy()"
   ]
  },
  {
   "cell_type": "code",
   "execution_count": 23,
   "metadata": {},
   "outputs": [],
   "source": [
    "census['census_lat'] = [x.split(',')[0] if (pd.isna(x) == False) else x for x in census.census_lat_long]\n",
    "census['census_long'] = [x.split(',')[1] if (pd.isna(x) == False) else x for x in census.census_lat_long]\n",
    "census = census.drop('census_lat_long', axis = 1)"
   ]
  },
  {
   "cell_type": "code",
   "execution_count": 24,
   "metadata": {},
   "outputs": [],
   "source": [
    "census = census.rename(columns = {'zip5':'zip'})\n",
    "census.columns = [x.lower()for x in census.columns]\n",
    "census = census.drop_duplicates()"
   ]
  },
  {
   "cell_type": "code",
   "execution_count": 25,
   "metadata": {},
   "outputs": [
    {
     "name": "stdout",
     "output_type": "stream",
     "text": [
      "<class 'pandas.core.frame.DataFrame'>\n",
      "Int64Index: 95561 entries, 0 to 95566\n",
      "Data columns (total 6 columns):\n",
      " #   Column       Non-Null Count  Dtype \n",
      "---  ------       --------------  ----- \n",
      " 0   address      95561 non-null  object\n",
      " 1   city         95561 non-null  object\n",
      " 2   state        95561 non-null  object\n",
      " 3   zip          95561 non-null  object\n",
      " 4   census_lat   81243 non-null  object\n",
      " 5   census_long  81243 non-null  object\n",
      "dtypes: object(6)\n",
      "memory usage: 5.1+ MB\n"
     ]
    }
   ],
   "source": [
    "census.info()"
   ]
  },
  {
   "cell_type": "markdown",
   "metadata": {},
   "source": [
    "### Geocodio coordinates\n",
    "Since Census geocoding yielded a significant amount of null results, we used Geocodio as well"
   ]
  },
  {
   "cell_type": "code",
   "execution_count": 26,
   "metadata": {},
   "outputs": [],
   "source": [
    "geocodio = pd.read_csv('HUD_records_for_geocodio_geocodio_f802edffd7f9a777c6823662d86761228bf2fa3f.csv')"
   ]
  },
  {
   "cell_type": "code",
   "execution_count": 27,
   "metadata": {},
   "outputs": [],
   "source": [
    "geocodio.columns = [x.lower().replace(' ','_') for x in geocodio.columns]\n",
    "geocodio.columns = ['geocodio_' + x for x in geocodio.columns]"
   ]
  },
  {
   "cell_type": "code",
   "execution_count": 28,
   "metadata": {
    "scrolled": true
   },
   "outputs": [
    {
     "data": {
      "text/html": [
       "<div>\n",
       "<style scoped>\n",
       "    .dataframe tbody tr th:only-of-type {\n",
       "        vertical-align: middle;\n",
       "    }\n",
       "\n",
       "    .dataframe tbody tr th {\n",
       "        vertical-align: top;\n",
       "    }\n",
       "\n",
       "    .dataframe thead th {\n",
       "        text-align: right;\n",
       "    }\n",
       "</style>\n",
       "<table border=\"1\" class=\"dataframe\">\n",
       "  <thead>\n",
       "    <tr style=\"text-align: right;\">\n",
       "      <th></th>\n",
       "      <th>geocodio_address</th>\n",
       "      <th>geocodio_city</th>\n",
       "      <th>geocodio_state</th>\n",
       "      <th>geocodio_zip</th>\n",
       "      <th>geocodio_latitude</th>\n",
       "      <th>geocodio_longitude</th>\n",
       "      <th>geocodio_accuracy_score</th>\n",
       "      <th>geocodio_accuracy_type</th>\n",
       "      <th>geocodio_number</th>\n",
       "      <th>geocodio_street</th>\n",
       "      <th>geocodio_unit_type</th>\n",
       "      <th>geocodio_unit_number</th>\n",
       "      <th>geocodio_city.1</th>\n",
       "      <th>geocodio_state.1</th>\n",
       "      <th>geocodio_county</th>\n",
       "      <th>geocodio_zip</th>\n",
       "      <th>geocodio_country</th>\n",
       "      <th>geocodio_source</th>\n",
       "    </tr>\n",
       "  </thead>\n",
       "  <tbody>\n",
       "    <tr>\n",
       "      <th>0</th>\n",
       "      <td>700 18TH PL SW                                ...</td>\n",
       "      <td>BIRMINGHAM</td>\n",
       "      <td>AL</td>\n",
       "      <td>35211-0000</td>\n",
       "      <td>33.483621</td>\n",
       "      <td>-86.867248</td>\n",
       "      <td>1.0</td>\n",
       "      <td>rooftop</td>\n",
       "      <td>700</td>\n",
       "      <td>18th Place Ln SW</td>\n",
       "      <td>NaN</td>\n",
       "      <td>NaN</td>\n",
       "      <td>Birmingham</td>\n",
       "      <td>AL</td>\n",
       "      <td>Jefferson County</td>\n",
       "      <td>35211.0</td>\n",
       "      <td>US</td>\n",
       "      <td>Jefferson</td>\n",
       "    </tr>\n",
       "    <tr>\n",
       "      <th>1</th>\n",
       "      <td>3765 NARROW LANE RD                           ...</td>\n",
       "      <td>MONTGOMERY</td>\n",
       "      <td>AL</td>\n",
       "      <td>36111-0000</td>\n",
       "      <td>32.336461</td>\n",
       "      <td>-86.281893</td>\n",
       "      <td>1.0</td>\n",
       "      <td>rooftop</td>\n",
       "      <td>3765</td>\n",
       "      <td>Narrow Lane Rd</td>\n",
       "      <td>NaN</td>\n",
       "      <td>NaN</td>\n",
       "      <td>Montgomery</td>\n",
       "      <td>AL</td>\n",
       "      <td>Montgomery County</td>\n",
       "      <td>36111.0</td>\n",
       "      <td>US</td>\n",
       "      <td>Montgomery</td>\n",
       "    </tr>\n",
       "    <tr>\n",
       "      <th>2</th>\n",
       "      <td>2125-27 ARLINGTON A                          ...</td>\n",
       "      <td>BESSEMER</td>\n",
       "      <td>AL</td>\n",
       "      <td>35020-0000</td>\n",
       "      <td>33.402981</td>\n",
       "      <td>-86.946330</td>\n",
       "      <td>1.0</td>\n",
       "      <td>rooftop</td>\n",
       "      <td>2125</td>\n",
       "      <td>Arlington Ave</td>\n",
       "      <td>NaN</td>\n",
       "      <td>NaN</td>\n",
       "      <td>Bessemer</td>\n",
       "      <td>AL</td>\n",
       "      <td>Jefferson County</td>\n",
       "      <td>35020.0</td>\n",
       "      <td>US</td>\n",
       "      <td>Jefferson</td>\n",
       "    </tr>\n",
       "    <tr>\n",
       "      <th>3</th>\n",
       "      <td>3349 HERBERT DRIVE                            ...</td>\n",
       "      <td>MONTGOMERY</td>\n",
       "      <td>AL</td>\n",
       "      <td>36116-0000</td>\n",
       "      <td>32.302026</td>\n",
       "      <td>-86.270992</td>\n",
       "      <td>1.0</td>\n",
       "      <td>rooftop</td>\n",
       "      <td>3349</td>\n",
       "      <td>Herbert Dr</td>\n",
       "      <td>NaN</td>\n",
       "      <td>NaN</td>\n",
       "      <td>Montgomery</td>\n",
       "      <td>AL</td>\n",
       "      <td>Montgomery County</td>\n",
       "      <td>36116.0</td>\n",
       "      <td>US</td>\n",
       "      <td>Montgomery</td>\n",
       "    </tr>\n",
       "    <tr>\n",
       "      <th>4</th>\n",
       "      <td>3101 AVENUE H                                 ...</td>\n",
       "      <td>BIRMINGHAM</td>\n",
       "      <td>AL</td>\n",
       "      <td>35218-0000</td>\n",
       "      <td>33.501075</td>\n",
       "      <td>-86.901505</td>\n",
       "      <td>1.0</td>\n",
       "      <td>rooftop</td>\n",
       "      <td>3101</td>\n",
       "      <td>Ave H</td>\n",
       "      <td>NaN</td>\n",
       "      <td>NaN</td>\n",
       "      <td>Birmingham</td>\n",
       "      <td>AL</td>\n",
       "      <td>Jefferson County</td>\n",
       "      <td>35218.0</td>\n",
       "      <td>US</td>\n",
       "      <td>Jefferson</td>\n",
       "    </tr>\n",
       "  </tbody>\n",
       "</table>\n",
       "</div>"
      ],
      "text/plain": [
       "                                    geocodio_address  \\\n",
       "0  700 18TH PL SW                                ...   \n",
       "1  3765 NARROW LANE RD                           ...   \n",
       "2   2125-27 ARLINGTON A                          ...   \n",
       "3  3349 HERBERT DRIVE                            ...   \n",
       "4  3101 AVENUE H                                 ...   \n",
       "\n",
       "               geocodio_city geocodio_state  geocodio_zip  geocodio_latitude  \\\n",
       "0  BIRMINGHAM                            AL    35211-0000          33.483621   \n",
       "1  MONTGOMERY                            AL    36111-0000          32.336461   \n",
       "2  BESSEMER                              AL    35020-0000          33.402981   \n",
       "3  MONTGOMERY                            AL    36116-0000          32.302026   \n",
       "4  BIRMINGHAM                            AL    35218-0000          33.501075   \n",
       "\n",
       "   geocodio_longitude  geocodio_accuracy_score geocodio_accuracy_type  \\\n",
       "0          -86.867248                      1.0                rooftop   \n",
       "1          -86.281893                      1.0                rooftop   \n",
       "2          -86.946330                      1.0                rooftop   \n",
       "3          -86.270992                      1.0                rooftop   \n",
       "4          -86.901505                      1.0                rooftop   \n",
       "\n",
       "  geocodio_number   geocodio_street geocodio_unit_type geocodio_unit_number  \\\n",
       "0             700  18th Place Ln SW                NaN                  NaN   \n",
       "1            3765    Narrow Lane Rd                NaN                  NaN   \n",
       "2            2125     Arlington Ave                NaN                  NaN   \n",
       "3            3349        Herbert Dr                NaN                  NaN   \n",
       "4            3101             Ave H                NaN                  NaN   \n",
       "\n",
       "  geocodio_city.1 geocodio_state.1    geocodio_county  geocodio_zip  \\\n",
       "0      Birmingham               AL   Jefferson County       35211.0   \n",
       "1      Montgomery               AL  Montgomery County       36111.0   \n",
       "2        Bessemer               AL   Jefferson County       35020.0   \n",
       "3      Montgomery               AL  Montgomery County       36116.0   \n",
       "4      Birmingham               AL   Jefferson County       35218.0   \n",
       "\n",
       "  geocodio_country geocodio_source  \n",
       "0               US       Jefferson  \n",
       "1               US      Montgomery  \n",
       "2               US       Jefferson  \n",
       "3               US      Montgomery  \n",
       "4               US       Jefferson  "
      ]
     },
     "execution_count": 28,
     "metadata": {},
     "output_type": "execute_result"
    }
   ],
   "source": [
    "geocodio.head()"
   ]
  },
  {
   "cell_type": "code",
   "execution_count": 29,
   "metadata": {},
   "outputs": [],
   "source": [
    "geocodioslice = geocodio.iloc[:,:6].copy()"
   ]
  },
  {
   "cell_type": "code",
   "execution_count": 30,
   "metadata": {},
   "outputs": [
    {
     "data": {
      "text/plain": [
       "rooftop                  72516\n",
       "range_interpolation      17901\n",
       "place                     3899\n",
       "street_center             1055\n",
       "nearest_rooftop_match      192\n",
       "intersection                 3\n",
       "Name: geocodio_accuracy_type, dtype: int64"
      ]
     },
     "execution_count": 30,
     "metadata": {},
     "output_type": "execute_result"
    }
   ],
   "source": [
    "geocodio.geocodio_accuracy_type.value_counts()"
   ]
  },
  {
   "cell_type": "code",
   "execution_count": 31,
   "metadata": {},
   "outputs": [],
   "source": [
    "geocodioslice = geocodioslice.rename(columns = {'geocodio_address':'address','geocodio_city':'city','geocodio_state':'state','geocodio_zip':'zip'})\n",
    "geocodioslice.zip = [x.split('-')[0] for x in geocodioslice.zip]\n",
    "geocodioslice = geocodioslice.drop_duplicates()"
   ]
  },
  {
   "cell_type": "code",
   "execution_count": 32,
   "metadata": {},
   "outputs": [
    {
     "name": "stdout",
     "output_type": "stream",
     "text": [
      "<class 'pandas.core.frame.DataFrame'>\n",
      "Int64Index: 95561 entries, 0 to 95566\n",
      "Data columns (total 6 columns):\n",
      " #   Column              Non-Null Count  Dtype  \n",
      "---  ------              --------------  -----  \n",
      " 0   address             95561 non-null  object \n",
      " 1   city                95561 non-null  object \n",
      " 2   state               95561 non-null  object \n",
      " 3   zip                 95561 non-null  object \n",
      " 4   geocodio_latitude   95561 non-null  float64\n",
      " 5   geocodio_longitude  95561 non-null  float64\n",
      "dtypes: float64(2), object(4)\n",
      "memory usage: 5.1+ MB\n"
     ]
    }
   ],
   "source": [
    "geocodioslice.info()"
   ]
  },
  {
   "cell_type": "markdown",
   "metadata": {},
   "source": [
    "### Merging all geocoding results"
   ]
  },
  {
   "cell_type": "code",
   "execution_count": 33,
   "metadata": {},
   "outputs": [],
   "source": [
    "dflist = [census,hud,geocodioslice]"
   ]
  },
  {
   "cell_type": "code",
   "execution_count": 34,
   "metadata": {},
   "outputs": [],
   "source": [
    "geocoders = reduce(lambda left,right: pd.merge(left, right, on = ['address', 'city', 'state', 'zip'], how = 'outer'), dflist)"
   ]
  },
  {
   "cell_type": "code",
   "execution_count": 35,
   "metadata": {},
   "outputs": [],
   "source": [
    "countif = pd.DataFrame(geocoders.groupby(['address','city','state','zip']).geocodio_latitude.count())"
   ]
  },
  {
   "cell_type": "code",
   "execution_count": 36,
   "metadata": {},
   "outputs": [
    {
     "name": "stdout",
     "output_type": "stream",
     "text": [
      "<class 'pandas.core.frame.DataFrame'>\n",
      "Int64Index: 95561 entries, 0 to 95560\n",
      "Data columns (total 10 columns):\n",
      " #   Column              Non-Null Count  Dtype  \n",
      "---  ------              --------------  -----  \n",
      " 0   address             95561 non-null  object \n",
      " 1   city                95561 non-null  object \n",
      " 2   state               95561 non-null  object \n",
      " 3   zip                 95561 non-null  object \n",
      " 4   census_lat          81243 non-null  object \n",
      " 5   census_long         81243 non-null  object \n",
      " 6   hud_map_latitude    95561 non-null  object \n",
      " 7   hud_map_longitude   95532 non-null  float64\n",
      " 8   geocodio_latitude   95561 non-null  float64\n",
      " 9   geocodio_longitude  95561 non-null  float64\n",
      "dtypes: float64(3), object(7)\n",
      "memory usage: 8.0+ MB\n"
     ]
    }
   ],
   "source": [
    "geocoders.info()"
   ]
  },
  {
   "cell_type": "markdown",
   "metadata": {},
   "source": [
    "geocoders.to_csv('20201219_three_geocoders.csv')"
   ]
  },
  {
   "cell_type": "markdown",
   "metadata": {},
   "source": [
    "## Importing spatial join results\n",
    "We downloaded [all FEMA flood maps by state](https://msc.fema.gov/portal/advanceSearch) and did spatial joins on SFHAs using coordiantes from all geocoders, with two versions of HUD's coordinates - NAD83 and WGS84.\n"
   ]
  },
  {
   "cell_type": "markdown",
   "metadata": {},
   "source": [
    "### Geocodio results"
   ]
  },
  {
   "cell_type": "code",
   "execution_count": 37,
   "metadata": {},
   "outputs": [],
   "source": [
    "geocodiojoin = pd.read_csv('HUD_3_yr_sales_geocodio_join.csv',low_memory=False)"
   ]
  },
  {
   "cell_type": "code",
   "execution_count": 38,
   "metadata": {},
   "outputs": [
    {
     "data": {
      "text/plain": [
       "Index(['OBJECTID', 'Join_Count', 'TARGET_FID', 'Field1', 'address', 'city',\n",
       "       'state', 'zip', 'geocodio_latitude', 'geocodio_longitude', 'DFIRM_ID',\n",
       "       'VERSION_ID', 'FLD_AR_ID', 'STUDY_TYP', 'FLD_ZONE', 'ZONE_SUBTY',\n",
       "       'SFHA_TF', 'STATIC_BFE', 'V_DATUM', 'DEPTH', 'LEN_UNIT', 'VELOCITY',\n",
       "       'VEL_UNIT', 'AR_REVERT', 'AR_SUBTRV', 'BFE_REVERT', 'DEP_REVERT',\n",
       "       'DUAL_ZONE', 'SOURCE_CIT', 'GFID'],\n",
       "      dtype='object')"
      ]
     },
     "execution_count": 38,
     "metadata": {},
     "output_type": "execute_result"
    }
   ],
   "source": [
    "geocodiojoin.columns"
   ]
  },
  {
   "cell_type": "code",
   "execution_count": 39,
   "metadata": {},
   "outputs": [],
   "source": [
    "codiojoin = geocodiojoin[['address', 'city',\n",
    "       'state', 'zip', 'geocodio_latitude', 'geocodio_longitude','FLD_ZONE', 'ZONE_SUBTY']].copy()"
   ]
  },
  {
   "cell_type": "code",
   "execution_count": 40,
   "metadata": {},
   "outputs": [],
   "source": [
    "codiojoin = codiojoin.rename(columns={'FLD_ZONE':'codio_fld_zone','ZONE_SUBTY':'codio_zone_subty'})"
   ]
  },
  {
   "cell_type": "code",
   "execution_count": 41,
   "metadata": {},
   "outputs": [
    {
     "name": "stdout",
     "output_type": "stream",
     "text": [
      "<class 'pandas.core.frame.DataFrame'>\n",
      "RangeIndex: 95561 entries, 0 to 95560\n",
      "Data columns (total 8 columns):\n",
      " #   Column              Non-Null Count  Dtype  \n",
      "---  ------              --------------  -----  \n",
      " 0   address             95561 non-null  object \n",
      " 1   city                95561 non-null  object \n",
      " 2   state               95561 non-null  object \n",
      " 3   zip                 95561 non-null  int64  \n",
      " 4   geocodio_latitude   95561 non-null  float64\n",
      " 5   geocodio_longitude  95561 non-null  float64\n",
      " 6   codio_fld_zone      84797 non-null  object \n",
      " 7   codio_zone_subty    80726 non-null  object \n",
      "dtypes: float64(2), int64(1), object(5)\n",
      "memory usage: 5.8+ MB\n"
     ]
    }
   ],
   "source": [
    "codiojoin.info()"
   ]
  },
  {
   "cell_type": "markdown",
   "metadata": {},
   "source": [
    "### HUD results - assuming NAD83"
   ]
  },
  {
   "cell_type": "code",
   "execution_count": 42,
   "metadata": {},
   "outputs": [],
   "source": [
    "hudnadjoindata = pd.read_csv('HUD_3_yr_sales_hud_nad_join.csv', low_memory = False)\n",
    "\n",
    "hudnadjoin = hudnadjoindata[['address', 'city',\n",
    "       'state', 'zip', 'hud_map_latitude', 'hud_map_longitude','FLD_ZONE', 'ZONE_SUBTY']].copy()\n",
    "\n",
    "hudnadjoin = hudnadjoin.rename(columns={'FLD_ZONE':'hud_nad_fld_zone','ZONE_SUBTY':'hud_nad_zone_subty','hud_map_latitude':'hud_nad_latitude','hud_map_longitude':'hud_nad_longitude'})"
   ]
  },
  {
   "cell_type": "markdown",
   "metadata": {},
   "source": [
    "### HUD results - assuming WGS84"
   ]
  },
  {
   "cell_type": "code",
   "execution_count": 43,
   "metadata": {},
   "outputs": [],
   "source": [
    "hudwgsjoindata = pd.read_csv('HUD_3_yr_sales_hud_wgs_join.csv', low_memory = False)"
   ]
  },
  {
   "cell_type": "code",
   "execution_count": 44,
   "metadata": {
    "scrolled": true
   },
   "outputs": [
    {
     "name": "stdout",
     "output_type": "stream",
     "text": [
      "<class 'pandas.core.frame.DataFrame'>\n",
      "RangeIndex: 95561 entries, 0 to 95560\n",
      "Data columns (total 34 columns):\n",
      " #   Column              Non-Null Count  Dtype  \n",
      "---  ------              --------------  -----  \n",
      " 0   OBJECTID            95561 non-null  int64  \n",
      " 1   Join_Count          95561 non-null  int64  \n",
      " 2   TARGET_FID          95561 non-null  int64  \n",
      " 3   Field1              95561 non-null  int64  \n",
      " 4   address             95561 non-null  object \n",
      " 5   city                95561 non-null  object \n",
      " 6   state               95561 non-null  object \n",
      " 7   zip                 95561 non-null  int64  \n",
      " 8   census_long         81243 non-null  float64\n",
      " 9   census_lat          81243 non-null  float64\n",
      " 10  hud_map_latitude    95532 non-null  float64\n",
      " 11  hud_map_longitude   95532 non-null  float64\n",
      " 12  geocodio_latitude   95561 non-null  float64\n",
      " 13  geocodio_longitude  95561 non-null  float64\n",
      " 14  DFIRM_ID            84762 non-null  object \n",
      " 15  VERSION_ID          84762 non-null  object \n",
      " 16  FLD_AR_ID           84761 non-null  object \n",
      " 17  STUDY_TYP           84762 non-null  object \n",
      " 18  FLD_ZONE            84762 non-null  object \n",
      " 19  ZONE_SUBTY          80578 non-null  object \n",
      " 20  SFHA_TF             84752 non-null  object \n",
      " 21  STATIC_BFE          84551 non-null  float64\n",
      " 22  V_DATUM             2903 non-null   object \n",
      " 23  DEPTH               84381 non-null  float64\n",
      " 24  LEN_UNIT            2631 non-null   object \n",
      " 25  VELOCITY            84410 non-null  float64\n",
      " 26  VEL_UNIT            1471 non-null   object \n",
      " 27  AR_REVERT           1866 non-null   object \n",
      " 28  AR_SUBTRV           102 non-null    object \n",
      " 29  BFE_REVERT          84682 non-null  float64\n",
      " 30  DEP_REVERT          84743 non-null  float64\n",
      " 31  DUAL_ZONE           2565 non-null   object \n",
      " 32  SOURCE_CIT          84480 non-null  object \n",
      " 33  GFID                75771 non-null  object \n",
      "dtypes: float64(11), int64(5), object(18)\n",
      "memory usage: 24.8+ MB\n"
     ]
    }
   ],
   "source": [
    "hudwgsjoindata.info()"
   ]
  },
  {
   "cell_type": "code",
   "execution_count": 45,
   "metadata": {},
   "outputs": [],
   "source": [
    "hudwgsjoin = hudwgsjoindata[['address', 'city',\n",
    "       'state', 'zip', 'hud_map_latitude', 'hud_map_longitude','FLD_ZONE', 'ZONE_SUBTY']].copy()\n",
    "\n",
    "hudwgsjoin = hudwgsjoin.rename(columns={'FLD_ZONE':'hud_wgs_fld_zone','ZONE_SUBTY':'hud_wgs_zone_subty','hud_map_latitude':'hud_wgs_latitude','hud_map_longitude':'hud_wgs_longitude'})"
   ]
  },
  {
   "cell_type": "code",
   "execution_count": 46,
   "metadata": {},
   "outputs": [
    {
     "name": "stdout",
     "output_type": "stream",
     "text": [
      "<class 'pandas.core.frame.DataFrame'>\n",
      "RangeIndex: 95561 entries, 0 to 95560\n",
      "Data columns (total 8 columns):\n",
      " #   Column              Non-Null Count  Dtype  \n",
      "---  ------              --------------  -----  \n",
      " 0   address             95561 non-null  object \n",
      " 1   city                95561 non-null  object \n",
      " 2   state               95561 non-null  object \n",
      " 3   zip                 95561 non-null  int64  \n",
      " 4   hud_wgs_latitude    95532 non-null  float64\n",
      " 5   hud_wgs_longitude   95532 non-null  float64\n",
      " 6   hud_wgs_fld_zone    84762 non-null  object \n",
      " 7   hud_wgs_zone_subty  80578 non-null  object \n",
      "dtypes: float64(2), int64(1), object(5)\n",
      "memory usage: 5.8+ MB\n"
     ]
    }
   ],
   "source": [
    "hudwgsjoin.info()"
   ]
  },
  {
   "cell_type": "markdown",
   "metadata": {},
   "source": [
    "### Census results"
   ]
  },
  {
   "cell_type": "code",
   "execution_count": 47,
   "metadata": {},
   "outputs": [],
   "source": [
    "censusjoindata = pd.read_csv('HUD_3_yr_sales_census_join.csv', low_memory = False)"
   ]
  },
  {
   "cell_type": "code",
   "execution_count": 48,
   "metadata": {},
   "outputs": [
    {
     "name": "stdout",
     "output_type": "stream",
     "text": [
      "<class 'pandas.core.frame.DataFrame'>\n",
      "RangeIndex: 74779 entries, 0 to 74778\n",
      "Data columns (total 30 columns):\n",
      " #   Column       Non-Null Count  Dtype  \n",
      "---  ------       --------------  -----  \n",
      " 0   OBJECTID     74779 non-null  int64  \n",
      " 1   Join_Count   74779 non-null  int64  \n",
      " 2   TARGET_FID   74779 non-null  int64  \n",
      " 3   Field1       74779 non-null  int64  \n",
      " 4   address      74779 non-null  object \n",
      " 5   city         74779 non-null  object \n",
      " 6   state        74779 non-null  object \n",
      " 7   zip          74779 non-null  int64  \n",
      " 8   census_long  74779 non-null  float64\n",
      " 9   census_lat   74779 non-null  float64\n",
      " 10  DFIRM_ID     74779 non-null  object \n",
      " 11  VERSION_ID   74779 non-null  object \n",
      " 12  FLD_AR_ID    74778 non-null  object \n",
      " 13  STUDY_TYP    74779 non-null  object \n",
      " 14  FLD_ZONE     74779 non-null  object \n",
      " 15  ZONE_SUBTY   70982 non-null  object \n",
      " 16  SFHA_TF      74766 non-null  object \n",
      " 17  STATIC_BFE   74591 non-null  float64\n",
      " 18  V_DATUM      2672 non-null   object \n",
      " 19  DEPTH        74441 non-null  float64\n",
      " 20  LEN_UNIT     2468 non-null   object \n",
      " 21  VELOCITY     74465 non-null  float64\n",
      " 22  VEL_UNIT     1300 non-null   object \n",
      " 23  AR_REVERT    1618 non-null   object \n",
      " 24  AR_SUBTRV    98 non-null     object \n",
      " 25  BFE_REVERT   74700 non-null  float64\n",
      " 26  DEP_REVERT   74759 non-null  float64\n",
      " 27  DUAL_ZONE    2263 non-null   object \n",
      " 28  SOURCE_CIT   74522 non-null  object \n",
      " 29  GFID         67264 non-null  object \n",
      "dtypes: float64(7), int64(5), object(18)\n",
      "memory usage: 17.1+ MB\n"
     ]
    }
   ],
   "source": [
    "censusjoindata.info()"
   ]
  },
  {
   "cell_type": "code",
   "execution_count": 49,
   "metadata": {},
   "outputs": [],
   "source": [
    "censusjoin = censusjoindata[['address', 'city',\n",
    "       'state', 'zip', 'census_long', 'census_lat','FLD_ZONE', 'ZONE_SUBTY']].copy()\n",
    "\n",
    "censusjoin = censusjoin.rename(columns={'FLD_ZONE':'census_fld_zone','ZONE_SUBTY':'census_zone_subty'})"
   ]
  },
  {
   "cell_type": "code",
   "execution_count": 50,
   "metadata": {},
   "outputs": [
    {
     "name": "stdout",
     "output_type": "stream",
     "text": [
      "<class 'pandas.core.frame.DataFrame'>\n",
      "RangeIndex: 74779 entries, 0 to 74778\n",
      "Data columns (total 8 columns):\n",
      " #   Column             Non-Null Count  Dtype  \n",
      "---  ------             --------------  -----  \n",
      " 0   address            74779 non-null  object \n",
      " 1   city               74779 non-null  object \n",
      " 2   state              74779 non-null  object \n",
      " 3   zip                74779 non-null  int64  \n",
      " 4   census_long        74779 non-null  float64\n",
      " 5   census_lat         74779 non-null  float64\n",
      " 6   census_fld_zone    74779 non-null  object \n",
      " 7   census_zone_subty  70982 non-null  object \n",
      "dtypes: float64(2), int64(1), object(5)\n",
      "memory usage: 4.6+ MB\n"
     ]
    }
   ],
   "source": [
    "censusjoin.info()"
   ]
  },
  {
   "cell_type": "markdown",
   "metadata": {},
   "source": [
    "### Merging all results"
   ]
  },
  {
   "cell_type": "code",
   "execution_count": 51,
   "metadata": {},
   "outputs": [],
   "source": [
    "joindflist = [hudwgsjoin, censusjoin, codiojoin, hudnadjoin]"
   ]
  },
  {
   "cell_type": "code",
   "execution_count": 52,
   "metadata": {},
   "outputs": [],
   "source": [
    "joinmaster = reduce(lambda left,right: pd.merge(left, right, on = ['address', 'city', 'state', 'zip'], how = 'outer'), joindflist)"
   ]
  },
  {
   "cell_type": "code",
   "execution_count": 53,
   "metadata": {},
   "outputs": [
    {
     "name": "stdout",
     "output_type": "stream",
     "text": [
      "<class 'pandas.core.frame.DataFrame'>\n",
      "Int64Index: 95561 entries, 0 to 95560\n",
      "Data columns (total 20 columns):\n",
      " #   Column              Non-Null Count  Dtype  \n",
      "---  ------              --------------  -----  \n",
      " 0   address             95561 non-null  object \n",
      " 1   city                95561 non-null  object \n",
      " 2   state               95561 non-null  object \n",
      " 3   zip                 95561 non-null  int64  \n",
      " 4   hud_wgs_latitude    95532 non-null  float64\n",
      " 5   hud_wgs_longitude   95532 non-null  float64\n",
      " 6   hud_wgs_fld_zone    84762 non-null  object \n",
      " 7   hud_wgs_zone_subty  80578 non-null  object \n",
      " 8   census_long         74779 non-null  float64\n",
      " 9   census_lat          74779 non-null  float64\n",
      " 10  census_fld_zone     74779 non-null  object \n",
      " 11  census_zone_subty   70982 non-null  object \n",
      " 12  geocodio_latitude   95561 non-null  float64\n",
      " 13  geocodio_longitude  95561 non-null  float64\n",
      " 14  codio_fld_zone      84797 non-null  object \n",
      " 15  codio_zone_subty    80726 non-null  object \n",
      " 16  hud_nad_latitude    95532 non-null  float64\n",
      " 17  hud_nad_longitude   95532 non-null  float64\n",
      " 18  hud_nad_fld_zone    84761 non-null  object \n",
      " 19  hud_nad_zone_subty  80581 non-null  object \n",
      "dtypes: float64(8), int64(1), object(11)\n",
      "memory usage: 15.3+ MB\n"
     ]
    }
   ],
   "source": [
    "joinmaster.info()"
   ]
  },
  {
   "cell_type": "code",
   "execution_count": 54,
   "metadata": {},
   "outputs": [],
   "source": [
    "noflag = ['D','X','AREA NOT INCLUDED']"
   ]
  },
  {
   "cell_type": "markdown",
   "metadata": {},
   "source": [
    "## Identifying conflicting results\n",
    "### Assuming HUD uses WGS84"
   ]
  },
  {
   "cell_type": "code",
   "execution_count": 55,
   "metadata": {},
   "outputs": [],
   "source": [
    "diffwgs = joinmaster[(~((joinmaster.hud_wgs_fld_zone == joinmaster.census_fld_zone)& \n",
    "                        (joinmaster.codio_fld_zone == joinmaster.census_fld_zone) &\n",
    "                        (joinmaster.codio_fld_zone == joinmaster.hud_wgs_fld_zone)))]"
   ]
  },
  {
   "cell_type": "code",
   "execution_count": 56,
   "metadata": {},
   "outputs": [
    {
     "name": "stdout",
     "output_type": "stream",
     "text": [
      "<class 'pandas.core.frame.DataFrame'>\n",
      "Int64Index: 23172 entries, 2 to 95560\n",
      "Data columns (total 20 columns):\n",
      " #   Column              Non-Null Count  Dtype  \n",
      "---  ------              --------------  -----  \n",
      " 0   address             23172 non-null  object \n",
      " 1   city                23172 non-null  object \n",
      " 2   state               23172 non-null  object \n",
      " 3   zip                 23172 non-null  int64  \n",
      " 4   hud_wgs_latitude    23143 non-null  float64\n",
      " 5   hud_wgs_longitude   23143 non-null  float64\n",
      " 6   hud_wgs_fld_zone    12373 non-null  object \n",
      " 7   hud_wgs_zone_subty  10822 non-null  object \n",
      " 8   census_long         2390 non-null   float64\n",
      " 9   census_lat          2390 non-null   float64\n",
      " 10  census_fld_zone     2390 non-null   object \n",
      " 11  census_zone_subty   1221 non-null   object \n",
      " 12  geocodio_latitude   23172 non-null  float64\n",
      " 13  geocodio_longitude  23172 non-null  float64\n",
      " 14  codio_fld_zone      12408 non-null  object \n",
      " 15  codio_zone_subty    10960 non-null  object \n",
      " 16  hud_nad_latitude    23143 non-null  float64\n",
      " 17  hud_nad_longitude   23143 non-null  float64\n",
      " 18  hud_nad_fld_zone    12372 non-null  object \n",
      " 19  hud_nad_zone_subty  10825 non-null  object \n",
      "dtypes: float64(8), int64(1), object(11)\n",
      "memory usage: 3.7+ MB\n"
     ]
    }
   ],
   "source": [
    "diffwgs.info()"
   ]
  },
  {
   "cell_type": "code",
   "execution_count": 57,
   "metadata": {},
   "outputs": [
    {
     "data": {
      "text/plain": [
       "X                    10706\n",
       "AE                     985\n",
       "A                      425\n",
       "AH                      83\n",
       "D                       79\n",
       "AREA NOT INCLUDED       63\n",
       "AO                      16\n",
       "VE                      15\n",
       "OPEN WATER               1\n",
       "Name: hud_wgs_fld_zone, dtype: int64"
      ]
     },
     "execution_count": 57,
     "metadata": {},
     "output_type": "execute_result"
    }
   ],
   "source": [
    "diffwgs.hud_wgs_fld_zone.value_counts()"
   ]
  },
  {
   "cell_type": "code",
   "execution_count": 58,
   "metadata": {},
   "outputs": [
    {
     "data": {
      "text/plain": [
       "X                    1160\n",
       "AE                    904\n",
       "A                     219\n",
       "AH                     60\n",
       "AO                     25\n",
       "D                      13\n",
       "AREA NOT INCLUDED       7\n",
       "VE                      2\n",
       "Name: census_fld_zone, dtype: int64"
      ]
     },
     "execution_count": 58,
     "metadata": {},
     "output_type": "execute_result"
    }
   ],
   "source": [
    "diffwgs.census_fld_zone.value_counts()"
   ]
  },
  {
   "cell_type": "code",
   "execution_count": 59,
   "metadata": {},
   "outputs": [],
   "source": [
    "# finding the conflicts in which any one fo the geocodes raised a flag for special flood risk zone\n",
    "realdiffwgs = diffwgs[((~diffwgs.hud_wgs_fld_zone.isin(noflag)) & (pd.isna(diffwgs.hud_wgs_fld_zone) == False)) |\n",
    "                      ((~diffwgs.codio_fld_zone.isin(noflag)) & (pd.isna(diffwgs.codio_fld_zone) == False))|\n",
    "                      ((~diffwgs.census_fld_zone.isin(noflag) & (pd.isna(diffwgs.census_fld_zone) == False)))]"
   ]
  },
  {
   "cell_type": "code",
   "execution_count": 60,
   "metadata": {},
   "outputs": [],
   "source": [
    "samewgs = joinmaster[((joinmaster.hud_wgs_fld_zone == joinmaster.census_fld_zone)& \n",
    "                      (joinmaster.codio_fld_zone == joinmaster.census_fld_zone) & \n",
    "                      (joinmaster.codio_fld_zone == joinmaster.hud_wgs_fld_zone))]"
   ]
  },
  {
   "cell_type": "code",
   "execution_count": 61,
   "metadata": {},
   "outputs": [
    {
     "data": {
      "text/plain": [
       "X                    69546\n",
       "AE                    1691\n",
       "AREA NOT INCLUDED      560\n",
       "A                      221\n",
       "D                      201\n",
       "AH                     104\n",
       "AO                      62\n",
       "A99                      3\n",
       "VE                       1\n",
       "Name: hud_wgs_fld_zone, dtype: int64"
      ]
     },
     "execution_count": 61,
     "metadata": {},
     "output_type": "execute_result"
    }
   ],
   "source": [
    "samewgs.hud_wgs_fld_zone.value_counts()"
   ]
  },
  {
   "cell_type": "markdown",
   "metadata": {},
   "source": [
    "### Assuming HUD uses NAD83"
   ]
  },
  {
   "cell_type": "code",
   "execution_count": 62,
   "metadata": {},
   "outputs": [],
   "source": [
    "samenad = joinmaster[((joinmaster.hud_nad_fld_zone == joinmaster.census_fld_zone)& \n",
    "                      (joinmaster.codio_fld_zone == joinmaster.census_fld_zone) & \n",
    "                      (joinmaster.codio_fld_zone == joinmaster.hud_nad_fld_zone))]\n",
    "diffnad = joinmaster[(~((joinmaster.hud_nad_fld_zone == joinmaster.census_fld_zone)&\n",
    "                        (joinmaster.codio_fld_zone == joinmaster.census_fld_zone) &\n",
    "                        (joinmaster.codio_fld_zone == joinmaster.hud_nad_fld_zone)))]\n",
    "\n",
    "# finding the conflicts in which any one fo the geocodes raised a flag for special flood risk zone\n",
    "realdiffnad = diffnad[((~diffnad.hud_nad_fld_zone.isin(noflag)) & (pd.isna(diffnad.hud_nad_fld_zone) == False)) |\n",
    "                      ((~diffnad.codio_fld_zone.isin(noflag)) & (pd.isna(diffnad.codio_fld_zone) == False))|\n",
    "                      ((~diffnad.census_fld_zone.isin(noflag) & (pd.isna(diffnad.census_fld_zone) == False)))].copy()"
   ]
  },
  {
   "cell_type": "markdown",
   "metadata": {},
   "source": [
    "joinmaster.to_csv('20201219_comparing_spatial_join_results.csv')"
   ]
  },
  {
   "cell_type": "markdown",
   "metadata": {},
   "source": [
    "### Filtering out the addresses that have at least one SFHA flag and feed that to ArcGIS"
   ]
  },
  {
   "cell_type": "code",
   "execution_count": 63,
   "metadata": {},
   "outputs": [],
   "source": [
    "flagsmaster = pd.concat([realdiffwgs[['address','city','state','zip']],realdiffnad[['address','city','state','zip']]]).drop_duplicates()"
   ]
  },
  {
   "cell_type": "code",
   "execution_count": 64,
   "metadata": {},
   "outputs": [
    {
     "data": {
      "text/plain": [
       "3073"
      ]
     },
     "execution_count": 64,
     "metadata": {},
     "output_type": "execute_result"
    }
   ],
   "source": [
    "len(flagsmaster)"
   ]
  },
  {
   "cell_type": "raw",
   "metadata": {},
   "source": [
    "flagsmaster.to_csv('20210107_arcgis_geocode_payload.csv')"
   ]
  },
  {
   "cell_type": "markdown",
   "metadata": {},
   "source": [
    "Flagmaster is then fed to ArcGIS"
   ]
  },
  {
   "cell_type": "markdown",
   "metadata": {},
   "source": [
    "### Filtering out the addresses that don't have a flood zone designation and feed that to ArcGIS too "
   ]
  },
  {
   "cell_type": "code",
   "execution_count": 65,
   "metadata": {},
   "outputs": [],
   "source": [
    "#figure out how the addresses in samewgs and samenad overlap and disentangle the different ones...and also filter out the null ones.\n",
    "samemerge = pd.merge(samewgs, samenad, on = ['address','city','state','zip'], how = 'outer')"
   ]
  },
  {
   "cell_type": "code",
   "execution_count": 66,
   "metadata": {},
   "outputs": [
    {
     "name": "stdout",
     "output_type": "stream",
     "text": [
      "<class 'pandas.core.frame.DataFrame'>\n",
      "Int64Index: 72401 entries, 0 to 72400\n",
      "Data columns (total 36 columns):\n",
      " #   Column                Non-Null Count  Dtype  \n",
      "---  ------                --------------  -----  \n",
      " 0   address               72401 non-null  object \n",
      " 1   city                  72401 non-null  object \n",
      " 2   state                 72401 non-null  object \n",
      " 3   zip                   72401 non-null  int64  \n",
      " 4   hud_wgs_latitude_x    72389 non-null  float64\n",
      " 5   hud_wgs_longitude_x   72389 non-null  float64\n",
      " 6   hud_wgs_fld_zone_x    72389 non-null  object \n",
      " 7   hud_wgs_zone_subty_x  69756 non-null  object \n",
      " 8   census_long_x         72389 non-null  float64\n",
      " 9   census_lat_x          72389 non-null  float64\n",
      " 10  census_fld_zone_x     72389 non-null  object \n",
      " 11  census_zone_subty_x   69761 non-null  object \n",
      " 12  geocodio_latitude_x   72389 non-null  float64\n",
      " 13  geocodio_longitude_x  72389 non-null  float64\n",
      " 14  codio_fld_zone_x      72389 non-null  object \n",
      " 15  codio_zone_subty_x    69766 non-null  object \n",
      " 16  hud_nad_latitude_x    72389 non-null  float64\n",
      " 17  hud_nad_longitude_x   72389 non-null  float64\n",
      " 18  hud_nad_fld_zone_x    72389 non-null  object \n",
      " 19  hud_nad_zone_subty_x  69756 non-null  object \n",
      " 20  hud_wgs_latitude_y    72388 non-null  float64\n",
      " 21  hud_wgs_longitude_y   72388 non-null  float64\n",
      " 22  hud_wgs_fld_zone_y    72387 non-null  object \n",
      " 23  hud_wgs_zone_subty_y  69752 non-null  object \n",
      " 24  census_long_y         72388 non-null  float64\n",
      " 25  census_lat_y          72388 non-null  float64\n",
      " 26  census_fld_zone_y     72388 non-null  object \n",
      " 27  census_zone_subty_y   69761 non-null  object \n",
      " 28  geocodio_latitude_y   72388 non-null  float64\n",
      " 29  geocodio_longitude_y  72388 non-null  float64\n",
      " 30  codio_fld_zone_y      72388 non-null  object \n",
      " 31  codio_zone_subty_y    69767 non-null  object \n",
      " 32  hud_nad_latitude_y    72388 non-null  float64\n",
      " 33  hud_nad_longitude_y   72388 non-null  float64\n",
      " 34  hud_nad_fld_zone_y    72388 non-null  object \n",
      " 35  hud_nad_zone_subty_y  69757 non-null  object \n",
      "dtypes: float64(16), int64(1), object(19)\n",
      "memory usage: 20.4+ MB\n"
     ]
    }
   ],
   "source": [
    "samemerge.info()"
   ]
  },
  {
   "cell_type": "code",
   "execution_count": 67,
   "metadata": {},
   "outputs": [],
   "source": [
    "# this should flag the addresses that aren't in both samewgs and samenad\n",
    "mergediff = samemerge[samemerge.hud_wgs_fld_zone_x != samemerge.hud_wgs_fld_zone_y]"
   ]
  },
  {
   "cell_type": "code",
   "execution_count": 68,
   "metadata": {},
   "outputs": [],
   "source": [
    "nulls = joinmaster[(pd.isna(joinmaster.census_fld_zone) == True) & (pd.isna(joinmaster.codio_fld_zone) == True) & (pd.isna(joinmaster.hud_wgs_fld_zone) == True)]"
   ]
  },
  {
   "cell_type": "code",
   "execution_count": 69,
   "metadata": {},
   "outputs": [
    {
     "name": "stdout",
     "output_type": "stream",
     "text": [
      "<class 'pandas.core.frame.DataFrame'>\n",
      "Int64Index: 10739 entries, 3339 to 95560\n",
      "Data columns (total 20 columns):\n",
      " #   Column              Non-Null Count  Dtype  \n",
      "---  ------              --------------  -----  \n",
      " 0   address             10739 non-null  object \n",
      " 1   city                10739 non-null  object \n",
      " 2   state               10739 non-null  object \n",
      " 3   zip                 10739 non-null  int64  \n",
      " 4   hud_wgs_latitude    10730 non-null  float64\n",
      " 5   hud_wgs_longitude   10730 non-null  float64\n",
      " 6   hud_wgs_fld_zone    0 non-null      object \n",
      " 7   hud_wgs_zone_subty  0 non-null      object \n",
      " 8   census_long         0 non-null      float64\n",
      " 9   census_lat          0 non-null      float64\n",
      " 10  census_fld_zone     0 non-null      object \n",
      " 11  census_zone_subty   0 non-null      object \n",
      " 12  geocodio_latitude   10739 non-null  float64\n",
      " 13  geocodio_longitude  10739 non-null  float64\n",
      " 14  codio_fld_zone      0 non-null      object \n",
      " 15  codio_zone_subty    0 non-null      object \n",
      " 16  hud_nad_latitude    10730 non-null  float64\n",
      " 17  hud_nad_longitude   10730 non-null  float64\n",
      " 18  hud_nad_fld_zone    0 non-null      object \n",
      " 19  hud_nad_zone_subty  0 non-null      object \n",
      "dtypes: float64(8), int64(1), object(11)\n",
      "memory usage: 1.7+ MB\n"
     ]
    }
   ],
   "source": [
    "nulls.info()"
   ]
  },
  {
   "cell_type": "code",
   "execution_count": 70,
   "metadata": {},
   "outputs": [],
   "source": [
    "payload2= pd.concat([mergediff, nulls])[['address','city','state','zip']].drop_duplicates()"
   ]
  },
  {
   "cell_type": "code",
   "execution_count": 71,
   "metadata": {},
   "outputs": [
    {
     "name": "stdout",
     "output_type": "stream",
     "text": [
      "<class 'pandas.core.frame.DataFrame'>\n",
      "Int64Index: 10764 entries, 7835 to 95560\n",
      "Data columns (total 4 columns):\n",
      " #   Column   Non-Null Count  Dtype \n",
      "---  ------   --------------  ----- \n",
      " 0   address  10764 non-null  object\n",
      " 1   city     10764 non-null  object\n",
      " 2   state    10764 non-null  object\n",
      " 3   zip      10764 non-null  int64 \n",
      "dtypes: int64(1), object(3)\n",
      "memory usage: 420.5+ KB\n"
     ]
    }
   ],
   "source": [
    "payload2.info()"
   ]
  },
  {
   "cell_type": "markdown",
   "metadata": {},
   "source": [
    "payload2.to_csv('20200107_addr_with_agreeing_flags.csv')"
   ]
  },
  {
   "cell_type": "markdown",
   "metadata": {},
   "source": [
    "payload2 is then fed to ArcGIS"
   ]
  },
  {
   "cell_type": "markdown",
   "metadata": {},
   "source": [
    "## Stitching the results together\n",
    "HUD has told us they use WGS84, so we don't have to use the NAD side anymore.<br>\n",
    "We're concatenating the agreeing ones, the disagreeing ones and the empty ones together and then deduplicate the addresses. it should add up to what it was"
   ]
  },
  {
   "cell_type": "markdown",
   "metadata": {},
   "source": [
    "### The agreeing ones"
   ]
  },
  {
   "cell_type": "code",
   "execution_count": 72,
   "metadata": {},
   "outputs": [
    {
     "data": {
      "text/plain": [
       "Index(['address', 'city', 'state', 'zip', 'hud_wgs_latitude',\n",
       "       'hud_wgs_longitude', 'hud_wgs_fld_zone', 'hud_wgs_zone_subty',\n",
       "       'census_long', 'census_lat', 'census_fld_zone', 'census_zone_subty',\n",
       "       'geocodio_latitude', 'geocodio_longitude', 'codio_fld_zone',\n",
       "       'codio_zone_subty', 'hud_nad_latitude', 'hud_nad_longitude',\n",
       "       'hud_nad_fld_zone', 'hud_nad_zone_subty'],\n",
       "      dtype='object')"
      ]
     },
     "execution_count": 72,
     "metadata": {},
     "output_type": "execute_result"
    }
   ],
   "source": [
    "samewgs.columns"
   ]
  },
  {
   "cell_type": "code",
   "execution_count": 73,
   "metadata": {},
   "outputs": [],
   "source": [
    "sameslice = samewgs[['address','city','state','zip','codio_fld_zone','codio_zone_subty','geocodio_latitude','geocodio_longitude']].copy()\n",
    "sameslice.columns = [x.replace('codio_','') for x in sameslice.columns]\n",
    "sameslice = sameslice.rename(columns = {'geolatitude':'y','geolongitude':'x'})\n",
    "sameslice['geocoder'] = 'geocodio'"
   ]
  },
  {
   "cell_type": "code",
   "execution_count": 74,
   "metadata": {},
   "outputs": [
    {
     "name": "stdout",
     "output_type": "stream",
     "text": [
      "<class 'pandas.core.frame.DataFrame'>\n",
      "Int64Index: 72389 entries, 0 to 95549\n",
      "Data columns (total 9 columns):\n",
      " #   Column      Non-Null Count  Dtype  \n",
      "---  ------      --------------  -----  \n",
      " 0   address     72389 non-null  object \n",
      " 1   city        72389 non-null  object \n",
      " 2   state       72389 non-null  object \n",
      " 3   zip         72389 non-null  int64  \n",
      " 4   fld_zone    72389 non-null  object \n",
      " 5   zone_subty  69766 non-null  object \n",
      " 6   y           72389 non-null  float64\n",
      " 7   x           72389 non-null  float64\n",
      " 8   geocoder    72389 non-null  object \n",
      "dtypes: float64(2), int64(1), object(6)\n",
      "memory usage: 5.5+ MB\n"
     ]
    }
   ],
   "source": [
    "sameslice.info()"
   ]
  },
  {
   "cell_type": "markdown",
   "metadata": {},
   "source": [
    "### The disagreeing ones"
   ]
  },
  {
   "cell_type": "code",
   "execution_count": 75,
   "metadata": {},
   "outputs": [],
   "source": [
    "conflicts = pd.read_excel('20210107_flagged_confirm.xls')"
   ]
  },
  {
   "cell_type": "code",
   "execution_count": 76,
   "metadata": {
    "scrolled": true
   },
   "outputs": [
    {
     "name": "stdout",
     "output_type": "stream",
     "text": [
      "<class 'pandas.core.frame.DataFrame'>\n",
      "RangeIndex: 3073 entries, 0 to 3072\n",
      "Data columns (total 97 columns):\n",
      " #   Column           Non-Null Count  Dtype  \n",
      "---  ------           --------------  -----  \n",
      " 0   OBJECTID         3073 non-null   int64  \n",
      " 1   Join_Count       3073 non-null   int64  \n",
      " 2   TARGET_FID       3073 non-null   int64  \n",
      " 3   Loc_name         3073 non-null   object \n",
      " 4   Status           3073 non-null   object \n",
      " 5   Score            3073 non-null   float64\n",
      " 6   Match_type       3073 non-null   object \n",
      " 7   Match_addr       3073 non-null   object \n",
      " 8   LongLabel        3073 non-null   object \n",
      " 9   ShortLabel       3073 non-null   object \n",
      " 10  Addr_type        3073 non-null   object \n",
      " 11  Type             1 non-null      object \n",
      " 12  PlaceName        34 non-null     object \n",
      " 13  Place_addr       3073 non-null   object \n",
      " 14  Phone            0 non-null      float64\n",
      " 15  URL              0 non-null      float64\n",
      " 16  Rank             3073 non-null   float64\n",
      " 17  AddBldg          0 non-null      float64\n",
      " 18  AddNum           3018 non-null   object \n",
      " 19  AddNumFrom       287 non-null    object \n",
      " 20  AddNumTo         287 non-null    object \n",
      " 21  AddRange         287 non-null    object \n",
      " 22  Side             967 non-null    object \n",
      " 23  StPreDir         693 non-null    object \n",
      " 24  StPreType        9 non-null      object \n",
      " 25  StName           3039 non-null   object \n",
      " 26  StType           2774 non-null   object \n",
      " 27  StDir            149 non-null    object \n",
      " 28  BldgType         0 non-null      float64\n",
      " 29  BldgName         0 non-null      float64\n",
      " 30  LevelType        0 non-null      float64\n",
      " 31  LevelName        0 non-null      float64\n",
      " 32  UnitType         128 non-null    object \n",
      " 33  UnitName         129 non-null    object \n",
      " 34  SubAddr          129 non-null    object \n",
      " 35  StAddr           3039 non-null   object \n",
      " 36  Block            0 non-null      float64\n",
      " 37  Sector           0 non-null      float64\n",
      " 38  Nbrhd            47 non-null     object \n",
      " 39  District         0 non-null      float64\n",
      " 40  City             3073 non-null   object \n",
      " 41  MetroArea        45 non-null     object \n",
      " 42  Subregion        3073 non-null   object \n",
      " 43  Region           3073 non-null   object \n",
      " 44  RegionAbbr       3073 non-null   object \n",
      " 45  Territory        0 non-null      float64\n",
      " 46  Zone             0 non-null      float64\n",
      " 47  Postal           3072 non-null   float64\n",
      " 48  PostalExt        2785 non-null   float64\n",
      " 49  Country          3073 non-null   object \n",
      " 50  LangCode         3073 non-null   object \n",
      " 51  Distance         3073 non-null   int64  \n",
      " 52  X                3073 non-null   float64\n",
      " 53  Y                3073 non-null   float64\n",
      " 54  DisplayX         3073 non-null   float64\n",
      " 55  DisplayY         3073 non-null   float64\n",
      " 56  Xmin             3073 non-null   float64\n",
      " 57  Xmax             3073 non-null   float64\n",
      " 58  Ymin             3073 non-null   float64\n",
      " 59  Ymax             3073 non-null   float64\n",
      " 60  ExInfo           158 non-null    object \n",
      " 61  ResultID         3073 non-null   int64  \n",
      " 62  IN_Address       3073 non-null   object \n",
      " 63  IN_Address2      0 non-null      float64\n",
      " 64  IN_Address3      0 non-null      float64\n",
      " 65  IN_Neighborhood  0 non-null      float64\n",
      " 66  IN_City          3073 non-null   object \n",
      " 67  IN_Subregion     0 non-null      float64\n",
      " 68  IN_Region        3073 non-null   object \n",
      " 69  IN_Postal        3073 non-null   int64  \n",
      " 70  IN_PostalExt     0 non-null      float64\n",
      " 71  IN_CountryCode   0 non-null      float64\n",
      " 72  USER_Field1      3073 non-null   int64  \n",
      " 73  USER_address     3073 non-null   object \n",
      " 74  USER_city        3073 non-null   object \n",
      " 75  USER_state       3073 non-null   object \n",
      " 76  USER_zip         3073 non-null   int64  \n",
      " 77  DFIRM_ID         3068 non-null   object \n",
      " 78  VERSION_ID       3068 non-null   object \n",
      " 79  FLD_AR_ID        3068 non-null   object \n",
      " 80  STUDY_TYP        3068 non-null   object \n",
      " 81  FLD_ZONE         3068 non-null   object \n",
      " 82  ZONE_SUBTY       1648 non-null   object \n",
      " 83  SFHA_TF          3065 non-null   object \n",
      " 84  STATIC_BFE       3064 non-null   float64\n",
      " 85  V_DATUM          569 non-null    object \n",
      " 86  DEPTH            3063 non-null   float64\n",
      " 87  LEN_UNIT         586 non-null    object \n",
      " 88  VELOCITY         3061 non-null   float64\n",
      " 89  VEL_UNIT         44 non-null     object \n",
      " 90  AR_REVERT        75 non-null     object \n",
      " 91  AR_SUBTRV        0 non-null      float64\n",
      " 92  BFE_REVERT       3063 non-null   float64\n",
      " 93  DEP_REVERT       3064 non-null   float64\n",
      " 94  DUAL_ZONE        70 non-null     object \n",
      " 95  SOURCE_CIT       3053 non-null   object \n",
      " 96  GFID             2702 non-null   object \n",
      "dtypes: float64(36), int64(8), object(53)\n",
      "memory usage: 2.3+ MB\n"
     ]
    }
   ],
   "source": [
    "conflicts.info()"
   ]
  },
  {
   "cell_type": "markdown",
   "metadata": {},
   "source": [
    "### The nulls"
   ]
  },
  {
   "cell_type": "code",
   "execution_count": 77,
   "metadata": {},
   "outputs": [],
   "source": [
    "blanks = pd.read_excel('20200108_hud_addr_w_agreeing_flags_sfha_join.xls')"
   ]
  },
  {
   "cell_type": "code",
   "execution_count": 78,
   "metadata": {
    "scrolled": true
   },
   "outputs": [
    {
     "name": "stdout",
     "output_type": "stream",
     "text": [
      "<class 'pandas.core.frame.DataFrame'>\n",
      "RangeIndex: 10764 entries, 0 to 10763\n",
      "Data columns (total 97 columns):\n",
      " #   Column           Non-Null Count  Dtype  \n",
      "---  ------           --------------  -----  \n",
      " 0   OBJECTID         10764 non-null  int64  \n",
      " 1   Join_Count       10764 non-null  int64  \n",
      " 2   TARGET_FID       10764 non-null  int64  \n",
      " 3   Loc_name         10764 non-null  object \n",
      " 4   Status           10764 non-null  object \n",
      " 5   Score            10764 non-null  float64\n",
      " 6   Match_type       10764 non-null  object \n",
      " 7   Match_addr       10764 non-null  object \n",
      " 8   LongLabel        10764 non-null  object \n",
      " 9   ShortLabel       10764 non-null  object \n",
      " 10  Addr_type        10764 non-null  object \n",
      " 11  Type             590 non-null    object \n",
      " 12  PlaceName        1990 non-null   object \n",
      " 13  Place_addr       10764 non-null  object \n",
      " 14  Phone            47 non-null     object \n",
      " 15  URL              0 non-null      float64\n",
      " 16  Rank             10764 non-null  float64\n",
      " 17  AddBldg          1 non-null      object \n",
      " 18  AddNum           8445 non-null   object \n",
      " 19  AddNumFrom       1217 non-null   object \n",
      " 20  AddNumTo         1217 non-null   object \n",
      " 21  AddRange         1217 non-null   object \n",
      " 22  Side             4273 non-null   object \n",
      " 23  StPreDir         1656 non-null   object \n",
      " 24  StPreType        1153 non-null   object \n",
      " 25  StName           8862 non-null   object \n",
      " 26  StType           6817 non-null   object \n",
      " 27  StDir            618 non-null    object \n",
      " 28  BldgType         0 non-null      float64\n",
      " 29  BldgName         0 non-null      float64\n",
      " 30  LevelType        0 non-null      float64\n",
      " 31  LevelName        0 non-null      float64\n",
      " 32  UnitType         72 non-null     object \n",
      " 33  UnitName         77 non-null     object \n",
      " 34  SubAddr          76 non-null     object \n",
      " 35  StAddr           8862 non-null   object \n",
      " 36  Block            0 non-null      float64\n",
      " 37  Sector           0 non-null      float64\n",
      " 38  Nbrhd            1471 non-null   object \n",
      " 39  District         0 non-null      float64\n",
      " 40  City             10582 non-null  object \n",
      " 41  MetroArea        303 non-null    object \n",
      " 42  Subregion        10764 non-null  object \n",
      " 43  Region           10764 non-null  object \n",
      " 44  RegionAbbr       10764 non-null  object \n",
      " 45  Territory        0 non-null      float64\n",
      " 46  Zone             0 non-null      float64\n",
      " 47  Postal           10262 non-null  float64\n",
      " 48  PostalExt        6841 non-null   float64\n",
      " 49  Country          10764 non-null  object \n",
      " 50  LangCode         10764 non-null  object \n",
      " 51  Distance         10764 non-null  int64  \n",
      " 52  X                10764 non-null  float64\n",
      " 53  Y                10764 non-null  float64\n",
      " 54  DisplayX         10764 non-null  float64\n",
      " 55  DisplayY         10764 non-null  float64\n",
      " 56  Xmin             10764 non-null  float64\n",
      " 57  Xmax             10764 non-null  float64\n",
      " 58  Ymin             10764 non-null  float64\n",
      " 59  Ymax             10764 non-null  float64\n",
      " 60  ExInfo           3164 non-null   object \n",
      " 61  ResultID         10764 non-null  int64  \n",
      " 62  IN_Address       10764 non-null  object \n",
      " 63  IN_Address2      0 non-null      float64\n",
      " 64  IN_Address3      0 non-null      float64\n",
      " 65  IN_Neighborhood  0 non-null      float64\n",
      " 66  IN_City          10764 non-null  object \n",
      " 67  IN_Subregion     0 non-null      float64\n",
      " 68  IN_Region        10764 non-null  object \n",
      " 69  IN_Postal        10764 non-null  int64  \n",
      " 70  IN_PostalExt     0 non-null      float64\n",
      " 71  IN_CountryCode   0 non-null      float64\n",
      " 72  USER_Field1      10764 non-null  int64  \n",
      " 73  USER_address     10764 non-null  object \n",
      " 74  USER_city        10764 non-null  object \n",
      " 75  USER_state       10764 non-null  object \n",
      " 76  USER_zip         10764 non-null  int64  \n",
      " 77  DFIRM_ID         36 non-null     object \n",
      " 78  VERSION_ID       36 non-null     object \n",
      " 79  FLD_AR_ID        36 non-null     object \n",
      " 80  STUDY_TYP        36 non-null     object \n",
      " 81  FLD_ZONE         36 non-null     object \n",
      " 82  ZONE_SUBTY       29 non-null     object \n",
      " 83  SFHA_TF          36 non-null     object \n",
      " 84  STATIC_BFE       36 non-null     float64\n",
      " 85  V_DATUM          5 non-null      object \n",
      " 86  DEPTH            36 non-null     float64\n",
      " 87  LEN_UNIT         4 non-null      object \n",
      " 88  VELOCITY         36 non-null     float64\n",
      " 89  VEL_UNIT         1 non-null      object \n",
      " 90  AR_REVERT        1 non-null      object \n",
      " 91  AR_SUBTRV        0 non-null      float64\n",
      " 92  BFE_REVERT       36 non-null     float64\n",
      " 93  DEP_REVERT       36 non-null     float64\n",
      " 94  DUAL_ZONE        2 non-null      object \n",
      " 95  SOURCE_CIT       36 non-null     object \n",
      " 96  GFID             30 non-null     object \n",
      "dtypes: float64(34), int64(8), object(55)\n",
      "memory usage: 8.0+ MB\n"
     ]
    }
   ],
   "source": [
    "blanks.info()"
   ]
  },
  {
   "cell_type": "markdown",
   "metadata": {},
   "source": [
    "### Stiching up"
   ]
  },
  {
   "cell_type": "code",
   "execution_count": 79,
   "metadata": {},
   "outputs": [],
   "source": [
    "concat1 = pd.concat([blanks,conflicts])"
   ]
  },
  {
   "cell_type": "code",
   "execution_count": 80,
   "metadata": {},
   "outputs": [],
   "source": [
    "concat1 = concat1.drop_duplicates()"
   ]
  },
  {
   "cell_type": "code",
   "execution_count": 81,
   "metadata": {},
   "outputs": [],
   "source": [
    "concatslice = concat1[['USER_address','USER_city','USER_state','USER_zip','FLD_ZONE','ZONE_SUBTY','X','Y']].copy()\n",
    "concatslice.columns = [x.replace('USER_','') for x in concatslice.columns]\n",
    "concatslice.columns = [x.lower() for x in concatslice.columns]"
   ]
  },
  {
   "cell_type": "code",
   "execution_count": 82,
   "metadata": {},
   "outputs": [],
   "source": [
    "concatslice['geocoder'] = 'arcgis'"
   ]
  },
  {
   "cell_type": "code",
   "execution_count": 83,
   "metadata": {},
   "outputs": [],
   "source": [
    "concatfinal = pd.concat([concatslice, sameslice])"
   ]
  },
  {
   "cell_type": "markdown",
   "metadata": {},
   "source": [
    "### Filtering out the SFHAs"
   ]
  },
  {
   "cell_type": "code",
   "execution_count": 84,
   "metadata": {},
   "outputs": [],
   "source": [
    "sfha1 = concatfinal[~(concatfinal.fld_zone.isin(noflag) | (pd.isna(concatfinal.fld_zone) == True))].copy()"
   ]
  },
  {
   "cell_type": "code",
   "execution_count": 85,
   "metadata": {},
   "outputs": [
    {
     "name": "stdout",
     "output_type": "stream",
     "text": [
      "<class 'pandas.core.frame.DataFrame'>\n",
      "Int64Index: 3567 entries, 0 to 95508\n",
      "Data columns (total 9 columns):\n",
      " #   Column      Non-Null Count  Dtype  \n",
      "---  ------      --------------  -----  \n",
      " 0   address     3567 non-null   object \n",
      " 1   city        3567 non-null   object \n",
      " 2   state       3567 non-null   object \n",
      " 3   zip         3567 non-null   int64  \n",
      " 4   fld_zone    3567 non-null   object \n",
      " 5   zone_subty  206 non-null    object \n",
      " 6   x           3567 non-null   float64\n",
      " 7   y           3567 non-null   float64\n",
      " 8   geocoder    3567 non-null   object \n",
      "dtypes: float64(2), int64(1), object(6)\n",
      "memory usage: 278.7+ KB\n"
     ]
    }
   ],
   "source": [
    "sfha1.info()"
   ]
  },
  {
   "cell_type": "code",
   "execution_count": 86,
   "metadata": {},
   "outputs": [],
   "source": [
    "for col in sfha1.columns:\n",
    "    sfha1[col] = sfha1[col].astype(str)\n",
    "    sfha1[col] = sfha1[col].str.strip()"
   ]
  },
  {
   "cell_type": "code",
   "execution_count": 87,
   "metadata": {},
   "outputs": [
    {
     "data": {
      "text/plain": [
       "nan                                         3361\n",
       "FLOODWAY                                     176\n",
       "COASTAL FLOODPLAIN                            27\n",
       "COMBINED RIVERINE AND COASTAL FLOODPLAIN       2\n",
       "DENSITY FRINGE AREA                            1\n",
       "Name: zone_subty, dtype: int64"
      ]
     },
     "execution_count": 87,
     "metadata": {},
     "output_type": "execute_result"
    }
   ],
   "source": [
    "sfha1.zone_subty.value_counts()"
   ]
  },
  {
   "cell_type": "code",
   "execution_count": 88,
   "metadata": {},
   "outputs": [],
   "source": [
    "sfha1 = sfha1.drop_duplicates()"
   ]
  },
  {
   "cell_type": "code",
   "execution_count": 89,
   "metadata": {},
   "outputs": [
    {
     "name": "stdout",
     "output_type": "stream",
     "text": [
      "<class 'pandas.core.frame.DataFrame'>\n",
      "Int64Index: 3560 entries, 0 to 95508\n",
      "Data columns (total 9 columns):\n",
      " #   Column      Non-Null Count  Dtype \n",
      "---  ------      --------------  ----- \n",
      " 0   address     3560 non-null   object\n",
      " 1   city        3560 non-null   object\n",
      " 2   state       3560 non-null   object\n",
      " 3   zip         3560 non-null   object\n",
      " 4   fld_zone    3560 non-null   object\n",
      " 5   zone_subty  3560 non-null   object\n",
      " 6   x           3560 non-null   object\n",
      " 7   y           3560 non-null   object\n",
      " 8   geocoder    3560 non-null   object\n",
      "dtypes: object(9)\n",
      "memory usage: 278.1+ KB\n"
     ]
    }
   ],
   "source": [
    "sfha1.info()"
   ]
  },
  {
   "cell_type": "code",
   "execution_count": 90,
   "metadata": {},
   "outputs": [
    {
     "data": {
      "text/plain": [
       "3557"
      ]
     },
     "execution_count": 90,
     "metadata": {},
     "output_type": "execute_result"
    }
   ],
   "source": [
    "len(sfha1.address.unique())"
   ]
  },
  {
   "cell_type": "code",
   "execution_count": 91,
   "metadata": {},
   "outputs": [],
   "source": [
    "countif = pd.DataFrame(sfha1.groupby(['address','zip']).geocoder.count())"
   ]
  },
  {
   "cell_type": "code",
   "execution_count": 92,
   "metadata": {},
   "outputs": [
    {
     "data": {
      "text/html": [
       "<div>\n",
       "<style scoped>\n",
       "    .dataframe tbody tr th:only-of-type {\n",
       "        vertical-align: middle;\n",
       "    }\n",
       "\n",
       "    .dataframe tbody tr th {\n",
       "        vertical-align: top;\n",
       "    }\n",
       "\n",
       "    .dataframe thead th {\n",
       "        text-align: right;\n",
       "    }\n",
       "</style>\n",
       "<table border=\"1\" class=\"dataframe\">\n",
       "  <thead>\n",
       "    <tr style=\"text-align: right;\">\n",
       "      <th></th>\n",
       "      <th></th>\n",
       "      <th>geocoder</th>\n",
       "    </tr>\n",
       "    <tr>\n",
       "      <th>address</th>\n",
       "      <th>zip</th>\n",
       "      <th></th>\n",
       "    </tr>\n",
       "  </thead>\n",
       "  <tbody>\n",
       "    <tr>\n",
       "      <th>100 KINGSBURY LANE</th>\n",
       "      <th>6033</th>\n",
       "      <td>2</td>\n",
       "    </tr>\n",
       "    <tr>\n",
       "      <th>202 POPLAR DRIVE</th>\n",
       "      <th>42701</th>\n",
       "      <td>2</td>\n",
       "    </tr>\n",
       "    <tr>\n",
       "      <th>329 SW WILD ROSE CT</th>\n",
       "      <th>32024</th>\n",
       "      <td>2</td>\n",
       "    </tr>\n",
       "  </tbody>\n",
       "</table>\n",
       "</div>"
      ],
      "text/plain": [
       "                           geocoder\n",
       "address             zip            \n",
       "100 KINGSBURY LANE  6033          2\n",
       "202 POPLAR DRIVE    42701         2\n",
       "329 SW WILD ROSE CT 32024         2"
      ]
     },
     "execution_count": 92,
     "metadata": {},
     "output_type": "execute_result"
    }
   ],
   "source": [
    "countif[countif.geocoder != 1]"
   ]
  },
  {
   "cell_type": "code",
   "execution_count": 93,
   "metadata": {},
   "outputs": [
    {
     "data": {
      "text/html": [
       "<div>\n",
       "<style scoped>\n",
       "    .dataframe tbody tr th:only-of-type {\n",
       "        vertical-align: middle;\n",
       "    }\n",
       "\n",
       "    .dataframe tbody tr th {\n",
       "        vertical-align: top;\n",
       "    }\n",
       "\n",
       "    .dataframe thead th {\n",
       "        text-align: right;\n",
       "    }\n",
       "</style>\n",
       "<table border=\"1\" class=\"dataframe\">\n",
       "  <thead>\n",
       "    <tr style=\"text-align: right;\">\n",
       "      <th></th>\n",
       "      <th>address</th>\n",
       "      <th>city</th>\n",
       "      <th>state</th>\n",
       "      <th>zip</th>\n",
       "      <th>fld_zone</th>\n",
       "      <th>zone_subty</th>\n",
       "      <th>x</th>\n",
       "      <th>y</th>\n",
       "      <th>geocoder</th>\n",
       "    </tr>\n",
       "  </thead>\n",
       "  <tbody>\n",
       "    <tr>\n",
       "      <th>0</th>\n",
       "      <td>100 KINGSBURY LANE</td>\n",
       "      <td>GLASTONBURY</td>\n",
       "      <td>CT</td>\n",
       "      <td>6033</td>\n",
       "      <td>AE</td>\n",
       "      <td>nan</td>\n",
       "      <td>-72.62210746883517</td>\n",
       "      <td>41.717311796600626</td>\n",
       "      <td>arcgis</td>\n",
       "    </tr>\n",
       "    <tr>\n",
       "      <th>9549</th>\n",
       "      <td>100 KINGSBURY LANE</td>\n",
       "      <td>GLASTONBURY</td>\n",
       "      <td>CT</td>\n",
       "      <td>6033</td>\n",
       "      <td>AE</td>\n",
       "      <td>nan</td>\n",
       "      <td>-72.622327</td>\n",
       "      <td>41.717603</td>\n",
       "      <td>geocodio</td>\n",
       "    </tr>\n",
       "  </tbody>\n",
       "</table>\n",
       "</div>"
      ],
      "text/plain": [
       "                 address         city state   zip fld_zone zone_subty  \\\n",
       "0     100 KINGSBURY LANE  GLASTONBURY    CT  6033       AE        nan   \n",
       "9549  100 KINGSBURY LANE  GLASTONBURY    CT  6033       AE        nan   \n",
       "\n",
       "                       x                   y  geocoder  \n",
       "0     -72.62210746883517  41.717311796600626    arcgis  \n",
       "9549          -72.622327           41.717603  geocodio  "
      ]
     },
     "execution_count": 93,
     "metadata": {},
     "output_type": "execute_result"
    }
   ],
   "source": [
    "sfha1[sfha1.address == '100 KINGSBURY LANE']"
   ]
  },
  {
   "cell_type": "code",
   "execution_count": 94,
   "metadata": {},
   "outputs": [
    {
     "data": {
      "text/html": [
       "<div>\n",
       "<style scoped>\n",
       "    .dataframe tbody tr th:only-of-type {\n",
       "        vertical-align: middle;\n",
       "    }\n",
       "\n",
       "    .dataframe tbody tr th {\n",
       "        vertical-align: top;\n",
       "    }\n",
       "\n",
       "    .dataframe thead th {\n",
       "        text-align: right;\n",
       "    }\n",
       "</style>\n",
       "<table border=\"1\" class=\"dataframe\">\n",
       "  <thead>\n",
       "    <tr style=\"text-align: right;\">\n",
       "      <th></th>\n",
       "      <th>address</th>\n",
       "      <th>city</th>\n",
       "      <th>state</th>\n",
       "      <th>zip</th>\n",
       "      <th>fld_zone</th>\n",
       "      <th>zone_subty</th>\n",
       "      <th>x</th>\n",
       "      <th>y</th>\n",
       "      <th>geocoder</th>\n",
       "    </tr>\n",
       "  </thead>\n",
       "  <tbody>\n",
       "    <tr>\n",
       "      <th>5</th>\n",
       "      <td>202 POPLAR DRIVE</td>\n",
       "      <td>ELIZABETHTOWN</td>\n",
       "      <td>KY</td>\n",
       "      <td>42701</td>\n",
       "      <td>AE</td>\n",
       "      <td>FLOODWAY</td>\n",
       "      <td>-85.86280755040369</td>\n",
       "      <td>37.69834374436102</td>\n",
       "      <td>arcgis</td>\n",
       "    </tr>\n",
       "    <tr>\n",
       "      <th>31696</th>\n",
       "      <td>202 POPLAR DRIVE</td>\n",
       "      <td>ELIZABETHTOWN</td>\n",
       "      <td>KY</td>\n",
       "      <td>42701</td>\n",
       "      <td>AE</td>\n",
       "      <td>nan</td>\n",
       "      <td>-85.86291199999998</td>\n",
       "      <td>37.698473</td>\n",
       "      <td>geocodio</td>\n",
       "    </tr>\n",
       "  </tbody>\n",
       "</table>\n",
       "</div>"
      ],
      "text/plain": [
       "                address           city state    zip fld_zone zone_subty  \\\n",
       "5      202 POPLAR DRIVE  ELIZABETHTOWN    KY  42701       AE   FLOODWAY   \n",
       "31696  202 POPLAR DRIVE  ELIZABETHTOWN    KY  42701       AE        nan   \n",
       "\n",
       "                        x                  y  geocoder  \n",
       "5      -85.86280755040369  37.69834374436102    arcgis  \n",
       "31696  -85.86291199999998          37.698473  geocodio  "
      ]
     },
     "execution_count": 94,
     "metadata": {},
     "output_type": "execute_result"
    }
   ],
   "source": [
    "sfha1[sfha1.address == '202 POPLAR DRIVE']"
   ]
  },
  {
   "cell_type": "code",
   "execution_count": 95,
   "metadata": {},
   "outputs": [
    {
     "data": {
      "text/html": [
       "<div>\n",
       "<style scoped>\n",
       "    .dataframe tbody tr th:only-of-type {\n",
       "        vertical-align: middle;\n",
       "    }\n",
       "\n",
       "    .dataframe tbody tr th {\n",
       "        vertical-align: top;\n",
       "    }\n",
       "\n",
       "    .dataframe thead th {\n",
       "        text-align: right;\n",
       "    }\n",
       "</style>\n",
       "<table border=\"1\" class=\"dataframe\">\n",
       "  <thead>\n",
       "    <tr style=\"text-align: right;\">\n",
       "      <th></th>\n",
       "      <th>address</th>\n",
       "      <th>city</th>\n",
       "      <th>state</th>\n",
       "      <th>zip</th>\n",
       "      <th>fld_zone</th>\n",
       "      <th>zone_subty</th>\n",
       "      <th>x</th>\n",
       "      <th>y</th>\n",
       "      <th>geocoder</th>\n",
       "    </tr>\n",
       "  </thead>\n",
       "  <tbody>\n",
       "    <tr>\n",
       "      <th>3</th>\n",
       "      <td>329 SW WILD ROSE CT</td>\n",
       "      <td>LAKE CITY</td>\n",
       "      <td>FL</td>\n",
       "      <td>32024</td>\n",
       "      <td>A</td>\n",
       "      <td>nan</td>\n",
       "      <td>-82.773788311879</td>\n",
       "      <td>30.15915728181561</td>\n",
       "      <td>arcgis</td>\n",
       "    </tr>\n",
       "    <tr>\n",
       "      <th>12945</th>\n",
       "      <td>329 SW WILD ROSE CT</td>\n",
       "      <td>LAKE CITY</td>\n",
       "      <td>FL</td>\n",
       "      <td>32024</td>\n",
       "      <td>A</td>\n",
       "      <td>nan</td>\n",
       "      <td>-82.77381699999998</td>\n",
       "      <td>30.159233</td>\n",
       "      <td>geocodio</td>\n",
       "    </tr>\n",
       "  </tbody>\n",
       "</table>\n",
       "</div>"
      ],
      "text/plain": [
       "                   address       city state    zip fld_zone zone_subty  \\\n",
       "3      329 SW WILD ROSE CT  LAKE CITY    FL  32024        A        nan   \n",
       "12945  329 SW WILD ROSE CT  LAKE CITY    FL  32024        A        nan   \n",
       "\n",
       "                        x                  y  geocoder  \n",
       "3        -82.773788311879  30.15915728181561    arcgis  \n",
       "12945  -82.77381699999998          30.159233  geocodio  "
      ]
     },
     "execution_count": 95,
     "metadata": {},
     "output_type": "execute_result"
    }
   ],
   "source": [
    "sfha1[sfha1.address == '329 SW WILD ROSE CT']"
   ]
  },
  {
   "cell_type": "code",
   "execution_count": 96,
   "metadata": {},
   "outputs": [],
   "source": [
    "sfha1 = sfha1.drop([9549])\n",
    "sfha1 = sfha1.drop([31696])\n",
    "sfha1 = sfha1.drop([12945])"
   ]
  },
  {
   "cell_type": "code",
   "execution_count": 97,
   "metadata": {},
   "outputs": [],
   "source": [
    "countif1 = pd.DataFrame(sfha1.groupby(['address','zip']).geocoder.count())"
   ]
  },
  {
   "cell_type": "code",
   "execution_count": 98,
   "metadata": {},
   "outputs": [
    {
     "data": {
      "text/html": [
       "<div>\n",
       "<style scoped>\n",
       "    .dataframe tbody tr th:only-of-type {\n",
       "        vertical-align: middle;\n",
       "    }\n",
       "\n",
       "    .dataframe tbody tr th {\n",
       "        vertical-align: top;\n",
       "    }\n",
       "\n",
       "    .dataframe thead th {\n",
       "        text-align: right;\n",
       "    }\n",
       "</style>\n",
       "<table border=\"1\" class=\"dataframe\">\n",
       "  <thead>\n",
       "    <tr style=\"text-align: right;\">\n",
       "      <th></th>\n",
       "      <th></th>\n",
       "      <th>geocoder</th>\n",
       "    </tr>\n",
       "    <tr>\n",
       "      <th>address</th>\n",
       "      <th>zip</th>\n",
       "      <th></th>\n",
       "    </tr>\n",
       "  </thead>\n",
       "  <tbody>\n",
       "  </tbody>\n",
       "</table>\n",
       "</div>"
      ],
      "text/plain": [
       "Empty DataFrame\n",
       "Columns: [geocoder]\n",
       "Index: []"
      ]
     },
     "execution_count": 98,
     "metadata": {},
     "output_type": "execute_result"
    }
   ],
   "source": [
    "countif1[countif1.geocoder != 1]"
   ]
  },
  {
   "cell_type": "code",
   "execution_count": 99,
   "metadata": {},
   "outputs": [
    {
     "name": "stdout",
     "output_type": "stream",
     "text": [
      "<class 'pandas.core.frame.DataFrame'>\n",
      "Int64Index: 3557 entries, 0 to 95508\n",
      "Data columns (total 9 columns):\n",
      " #   Column      Non-Null Count  Dtype \n",
      "---  ------      --------------  ----- \n",
      " 0   address     3557 non-null   object\n",
      " 1   city        3557 non-null   object\n",
      " 2   state       3557 non-null   object\n",
      " 3   zip         3557 non-null   object\n",
      " 4   fld_zone    3557 non-null   object\n",
      " 5   zone_subty  3557 non-null   object\n",
      " 6   x           3557 non-null   object\n",
      " 7   y           3557 non-null   object\n",
      " 8   geocoder    3557 non-null   object\n",
      "dtypes: object(9)\n",
      "memory usage: 277.9+ KB\n"
     ]
    }
   ],
   "source": [
    "sfha1.info()"
   ]
  },
  {
   "cell_type": "raw",
   "metadata": {},
   "source": [
    "#done. isolated all the addresses that are in sfhas.\n",
    "sfha1.to_csv('20210115_hud_homes_in_sfhas_with_xy.csv')"
   ]
  },
  {
   "cell_type": "markdown",
   "metadata": {},
   "source": [
    "## Look for states to focus on"
   ]
  },
  {
   "cell_type": "code",
   "execution_count": 100,
   "metadata": {},
   "outputs": [],
   "source": [
    "sfhabystate = pd.DataFrame(sfha1.groupby('state').address.count())\n",
    "sfhabystate.columns = ['sfha_addr_cnt']\n",
    "sfhabystate['pct_of_all_fldz_homes'] = round(sfhabystate.sfha_addr_cnt/len(sfha1)*100,2)"
   ]
  },
  {
   "cell_type": "code",
   "execution_count": 101,
   "metadata": {},
   "outputs": [
    {
     "data": {
      "text/html": [
       "<div>\n",
       "<style scoped>\n",
       "    .dataframe tbody tr th:only-of-type {\n",
       "        vertical-align: middle;\n",
       "    }\n",
       "\n",
       "    .dataframe tbody tr th {\n",
       "        vertical-align: top;\n",
       "    }\n",
       "\n",
       "    .dataframe thead th {\n",
       "        text-align: right;\n",
       "    }\n",
       "</style>\n",
       "<table border=\"1\" class=\"dataframe\">\n",
       "  <thead>\n",
       "    <tr style=\"text-align: right;\">\n",
       "      <th></th>\n",
       "      <th>sfha_addr_cnt</th>\n",
       "      <th>pct_of_all_fldz_homes</th>\n",
       "    </tr>\n",
       "    <tr>\n",
       "      <th>state</th>\n",
       "      <th></th>\n",
       "      <th></th>\n",
       "    </tr>\n",
       "  </thead>\n",
       "  <tbody>\n",
       "    <tr>\n",
       "      <th>AK</th>\n",
       "      <td>5</td>\n",
       "      <td>0.14</td>\n",
       "    </tr>\n",
       "    <tr>\n",
       "      <th>AL</th>\n",
       "      <td>84</td>\n",
       "      <td>2.36</td>\n",
       "    </tr>\n",
       "    <tr>\n",
       "      <th>AR</th>\n",
       "      <td>61</td>\n",
       "      <td>1.71</td>\n",
       "    </tr>\n",
       "    <tr>\n",
       "      <th>AZ</th>\n",
       "      <td>41</td>\n",
       "      <td>1.15</td>\n",
       "    </tr>\n",
       "    <tr>\n",
       "      <th>CA</th>\n",
       "      <td>59</td>\n",
       "      <td>1.66</td>\n",
       "    </tr>\n",
       "  </tbody>\n",
       "</table>\n",
       "</div>"
      ],
      "text/plain": [
       "       sfha_addr_cnt  pct_of_all_fldz_homes\n",
       "state                                      \n",
       "AK                 5                   0.14\n",
       "AL                84                   2.36\n",
       "AR                61                   1.71\n",
       "AZ                41                   1.15\n",
       "CA                59                   1.66"
      ]
     },
     "execution_count": 101,
     "metadata": {},
     "output_type": "execute_result"
    }
   ],
   "source": [
    "sfhabystate.head()"
   ]
  },
  {
   "cell_type": "code",
   "execution_count": 102,
   "metadata": {},
   "outputs": [],
   "source": [
    "allhomesbystate = pd.DataFrame(records.groupby('State').Address.count())\n",
    "allhomesbystate.columns = ['hud_addr_cnt']\n",
    "allhomesbystate['pct_of_all_hud_homes'] = round(allhomesbystate.hud_addr_cnt/len(records)*100,2)"
   ]
  },
  {
   "cell_type": "code",
   "execution_count": 103,
   "metadata": {},
   "outputs": [
    {
     "data": {
      "text/html": [
       "<div>\n",
       "<style scoped>\n",
       "    .dataframe tbody tr th:only-of-type {\n",
       "        vertical-align: middle;\n",
       "    }\n",
       "\n",
       "    .dataframe tbody tr th {\n",
       "        vertical-align: top;\n",
       "    }\n",
       "\n",
       "    .dataframe thead th {\n",
       "        text-align: right;\n",
       "    }\n",
       "</style>\n",
       "<table border=\"1\" class=\"dataframe\">\n",
       "  <thead>\n",
       "    <tr style=\"text-align: right;\">\n",
       "      <th></th>\n",
       "      <th>hud_addr_cnt</th>\n",
       "      <th>pct_of_all_hud_homes</th>\n",
       "    </tr>\n",
       "    <tr>\n",
       "      <th>State</th>\n",
       "      <th></th>\n",
       "      <th></th>\n",
       "    </tr>\n",
       "  </thead>\n",
       "  <tbody>\n",
       "    <tr>\n",
       "      <th>AK</th>\n",
       "      <td>342</td>\n",
       "      <td>0.36</td>\n",
       "    </tr>\n",
       "    <tr>\n",
       "      <th>AL</th>\n",
       "      <td>3332</td>\n",
       "      <td>3.49</td>\n",
       "    </tr>\n",
       "    <tr>\n",
       "      <th>AR</th>\n",
       "      <td>1455</td>\n",
       "      <td>1.52</td>\n",
       "    </tr>\n",
       "    <tr>\n",
       "      <th>AZ</th>\n",
       "      <td>898</td>\n",
       "      <td>0.94</td>\n",
       "    </tr>\n",
       "    <tr>\n",
       "      <th>CA</th>\n",
       "      <td>1674</td>\n",
       "      <td>1.75</td>\n",
       "    </tr>\n",
       "  </tbody>\n",
       "</table>\n",
       "</div>"
      ],
      "text/plain": [
       "       hud_addr_cnt  pct_of_all_hud_homes\n",
       "State                                    \n",
       "AK              342                  0.36\n",
       "AL             3332                  3.49\n",
       "AR             1455                  1.52\n",
       "AZ              898                  0.94\n",
       "CA             1674                  1.75"
      ]
     },
     "execution_count": 103,
     "metadata": {},
     "output_type": "execute_result"
    }
   ],
   "source": [
    "allhomesbystate.head()"
   ]
  },
  {
   "cell_type": "code",
   "execution_count": 104,
   "metadata": {},
   "outputs": [],
   "source": [
    "statehomecnt = pd.merge(allhomesbystate,sfhabystate, left_index = True, right_index = True, how = 'outer')\n",
    "statehomecnt['pct_of_hud_homes_in_fldz'] = round(statehomecnt.sfha_addr_cnt/statehomecnt.hud_addr_cnt*100,2)"
   ]
  },
  {
   "cell_type": "code",
   "execution_count": 105,
   "metadata": {
    "scrolled": true
   },
   "outputs": [
    {
     "data": {
      "text/html": [
       "<div>\n",
       "<style scoped>\n",
       "    .dataframe tbody tr th:only-of-type {\n",
       "        vertical-align: middle;\n",
       "    }\n",
       "\n",
       "    .dataframe tbody tr th {\n",
       "        vertical-align: top;\n",
       "    }\n",
       "\n",
       "    .dataframe thead th {\n",
       "        text-align: right;\n",
       "    }\n",
       "</style>\n",
       "<table border=\"1\" class=\"dataframe\">\n",
       "  <thead>\n",
       "    <tr style=\"text-align: right;\">\n",
       "      <th></th>\n",
       "      <th>hud_addr_cnt</th>\n",
       "      <th>pct_of_all_hud_homes</th>\n",
       "      <th>sfha_addr_cnt</th>\n",
       "      <th>pct_of_all_fldz_homes</th>\n",
       "      <th>pct_of_hud_homes_in_fldz</th>\n",
       "    </tr>\n",
       "  </thead>\n",
       "  <tbody>\n",
       "    <tr>\n",
       "      <th>LA</th>\n",
       "      <td>2178</td>\n",
       "      <td>2.28</td>\n",
       "      <td>455.0</td>\n",
       "      <td>12.79</td>\n",
       "      <td>20.89</td>\n",
       "    </tr>\n",
       "    <tr>\n",
       "      <th>FL</th>\n",
       "      <td>4301</td>\n",
       "      <td>4.50</td>\n",
       "      <td>529.0</td>\n",
       "      <td>14.87</td>\n",
       "      <td>12.30</td>\n",
       "    </tr>\n",
       "    <tr>\n",
       "      <th>MS</th>\n",
       "      <td>1485</td>\n",
       "      <td>1.55</td>\n",
       "      <td>154.0</td>\n",
       "      <td>4.33</td>\n",
       "      <td>10.37</td>\n",
       "    </tr>\n",
       "    <tr>\n",
       "      <th>WV</th>\n",
       "      <td>745</td>\n",
       "      <td>0.78</td>\n",
       "      <td>71.0</td>\n",
       "      <td>2.00</td>\n",
       "      <td>9.53</td>\n",
       "    </tr>\n",
       "    <tr>\n",
       "      <th>HI</th>\n",
       "      <td>22</td>\n",
       "      <td>0.02</td>\n",
       "      <td>2.0</td>\n",
       "      <td>0.06</td>\n",
       "      <td>9.09</td>\n",
       "    </tr>\n",
       "  </tbody>\n",
       "</table>\n",
       "</div>"
      ],
      "text/plain": [
       "    hud_addr_cnt  pct_of_all_hud_homes  sfha_addr_cnt  pct_of_all_fldz_homes  \\\n",
       "LA          2178                  2.28          455.0                  12.79   \n",
       "FL          4301                  4.50          529.0                  14.87   \n",
       "MS          1485                  1.55          154.0                   4.33   \n",
       "WV           745                  0.78           71.0                   2.00   \n",
       "HI            22                  0.02            2.0                   0.06   \n",
       "\n",
       "    pct_of_hud_homes_in_fldz  \n",
       "LA                     20.89  \n",
       "FL                     12.30  \n",
       "MS                     10.37  \n",
       "WV                      9.53  \n",
       "HI                      9.09  "
      ]
     },
     "execution_count": 105,
     "metadata": {},
     "output_type": "execute_result"
    }
   ],
   "source": [
    "statehomecnt.sort_values('pct_of_hud_homes_in_fldz', ascending = False).head()"
   ]
  },
  {
   "cell_type": "code",
   "execution_count": 106,
   "metadata": {},
   "outputs": [
    {
     "name": "stdout",
     "output_type": "stream",
     "text": [
      "<class 'pandas.core.frame.DataFrame'>\n",
      "Index: 53 entries, AK to WY\n",
      "Data columns (total 5 columns):\n",
      " #   Column                    Non-Null Count  Dtype  \n",
      "---  ------                    --------------  -----  \n",
      " 0   hud_addr_cnt              53 non-null     int64  \n",
      " 1   pct_of_all_hud_homes      53 non-null     float64\n",
      " 2   sfha_addr_cnt             49 non-null     float64\n",
      " 3   pct_of_all_fldz_homes     49 non-null     float64\n",
      " 4   pct_of_hud_homes_in_fldz  49 non-null     float64\n",
      "dtypes: float64(4), int64(1)\n",
      "memory usage: 2.5+ KB\n"
     ]
    }
   ],
   "source": [
    "statehomecnt.info()"
   ]
  },
  {
   "cell_type": "code",
   "execution_count": 107,
   "metadata": {},
   "outputs": [],
   "source": [
    "statehomecnt = statehomecnt.reset_index()"
   ]
  },
  {
   "cell_type": "code",
   "execution_count": 108,
   "metadata": {},
   "outputs": [],
   "source": [
    "# Importing census data\n",
    "popbystate = pd.read_excel('20210115_population_by_state_working.xlsx')"
   ]
  },
  {
   "cell_type": "code",
   "execution_count": 109,
   "metadata": {},
   "outputs": [
    {
     "data": {
      "text/html": [
       "<div>\n",
       "<style scoped>\n",
       "    .dataframe tbody tr th:only-of-type {\n",
       "        vertical-align: middle;\n",
       "    }\n",
       "\n",
       "    .dataframe tbody tr th {\n",
       "        vertical-align: top;\n",
       "    }\n",
       "\n",
       "    .dataframe thead th {\n",
       "        text-align: right;\n",
       "    }\n",
       "</style>\n",
       "<table border=\"1\" class=\"dataframe\">\n",
       "  <thead>\n",
       "    <tr style=\"text-align: right;\">\n",
       "      <th></th>\n",
       "      <th>state</th>\n",
       "      <th>population</th>\n",
       "      <th>USPS state</th>\n",
       "      <th>usps_abbr</th>\n",
       "      <th>pct_of_us_pop</th>\n",
       "    </tr>\n",
       "  </thead>\n",
       "  <tbody>\n",
       "    <tr>\n",
       "      <th>0</th>\n",
       "      <td>.California</td>\n",
       "      <td>39512223</td>\n",
       "      <td>California</td>\n",
       "      <td>CA</td>\n",
       "      <td>11.943864</td>\n",
       "    </tr>\n",
       "    <tr>\n",
       "      <th>1</th>\n",
       "      <td>.Texas</td>\n",
       "      <td>28995881</td>\n",
       "      <td>Texas</td>\n",
       "      <td>TX</td>\n",
       "      <td>8.764955</td>\n",
       "    </tr>\n",
       "    <tr>\n",
       "      <th>2</th>\n",
       "      <td>.Florida</td>\n",
       "      <td>21477737</td>\n",
       "      <td>Florida</td>\n",
       "      <td>FL</td>\n",
       "      <td>6.492350</td>\n",
       "    </tr>\n",
       "    <tr>\n",
       "      <th>3</th>\n",
       "      <td>.New York</td>\n",
       "      <td>19453561</td>\n",
       "      <td>New York</td>\n",
       "      <td>NY</td>\n",
       "      <td>5.880476</td>\n",
       "    </tr>\n",
       "    <tr>\n",
       "      <th>4</th>\n",
       "      <td>.Pennsylvania</td>\n",
       "      <td>12801989</td>\n",
       "      <td>Pennsylvania</td>\n",
       "      <td>PA</td>\n",
       "      <td>3.869821</td>\n",
       "    </tr>\n",
       "  </tbody>\n",
       "</table>\n",
       "</div>"
      ],
      "text/plain": [
       "           state  population    USPS state usps_abbr  pct_of_us_pop\n",
       "0    .California    39512223    California        CA      11.943864\n",
       "1         .Texas    28995881         Texas        TX       8.764955\n",
       "2       .Florida    21477737       Florida        FL       6.492350\n",
       "3      .New York    19453561      New York        NY       5.880476\n",
       "4  .Pennsylvania    12801989  Pennsylvania        PA       3.869821"
      ]
     },
     "execution_count": 109,
     "metadata": {},
     "output_type": "execute_result"
    }
   ],
   "source": [
    "popbystate.head()"
   ]
  },
  {
   "cell_type": "code",
   "execution_count": 110,
   "metadata": {},
   "outputs": [],
   "source": [
    "statehomecnt1 = pd.merge(statehomecnt,popbystate[['usps_abbr','pct_of_us_pop']], left_on = 'index', right_on = 'usps_abbr', how = 'outer')"
   ]
  },
  {
   "cell_type": "code",
   "execution_count": 111,
   "metadata": {},
   "outputs": [
    {
     "name": "stdout",
     "output_type": "stream",
     "text": [
      "<class 'pandas.core.frame.DataFrame'>\n",
      "Int64Index: 53 entries, 0 to 52\n",
      "Data columns (total 8 columns):\n",
      " #   Column                    Non-Null Count  Dtype  \n",
      "---  ------                    --------------  -----  \n",
      " 0   index                     53 non-null     object \n",
      " 1   hud_addr_cnt              53 non-null     int64  \n",
      " 2   pct_of_all_hud_homes      53 non-null     float64\n",
      " 3   sfha_addr_cnt             49 non-null     float64\n",
      " 4   pct_of_all_fldz_homes     49 non-null     float64\n",
      " 5   pct_of_hud_homes_in_fldz  49 non-null     float64\n",
      " 6   usps_abbr                 52 non-null     object \n",
      " 7   pct_of_us_pop             52 non-null     float64\n",
      "dtypes: float64(5), int64(1), object(2)\n",
      "memory usage: 3.7+ KB\n"
     ]
    }
   ],
   "source": [
    "statehomecnt1.info()"
   ]
  },
  {
   "cell_type": "code",
   "execution_count": 112,
   "metadata": {},
   "outputs": [
    {
     "data": {
      "text/html": [
       "<div>\n",
       "<style scoped>\n",
       "    .dataframe tbody tr th:only-of-type {\n",
       "        vertical-align: middle;\n",
       "    }\n",
       "\n",
       "    .dataframe tbody tr th {\n",
       "        vertical-align: top;\n",
       "    }\n",
       "\n",
       "    .dataframe thead th {\n",
       "        text-align: right;\n",
       "    }\n",
       "</style>\n",
       "<table border=\"1\" class=\"dataframe\">\n",
       "  <thead>\n",
       "    <tr style=\"text-align: right;\">\n",
       "      <th></th>\n",
       "      <th>index</th>\n",
       "      <th>hud_addr_cnt</th>\n",
       "      <th>pct_of_all_hud_homes</th>\n",
       "      <th>sfha_addr_cnt</th>\n",
       "      <th>pct_of_all_fldz_homes</th>\n",
       "      <th>pct_of_hud_homes_in_fldz</th>\n",
       "      <th>usps_abbr</th>\n",
       "      <th>pct_of_us_pop</th>\n",
       "    </tr>\n",
       "  </thead>\n",
       "  <tbody>\n",
       "    <tr>\n",
       "      <th>0</th>\n",
       "      <td>AK</td>\n",
       "      <td>342</td>\n",
       "      <td>0.36</td>\n",
       "      <td>5.0</td>\n",
       "      <td>0.14</td>\n",
       "      <td>1.46</td>\n",
       "      <td>AK</td>\n",
       "      <td>0.221133</td>\n",
       "    </tr>\n",
       "    <tr>\n",
       "      <th>1</th>\n",
       "      <td>AL</td>\n",
       "      <td>3332</td>\n",
       "      <td>3.49</td>\n",
       "      <td>84.0</td>\n",
       "      <td>2.36</td>\n",
       "      <td>2.52</td>\n",
       "      <td>AL</td>\n",
       "      <td>1.482148</td>\n",
       "    </tr>\n",
       "    <tr>\n",
       "      <th>2</th>\n",
       "      <td>AR</td>\n",
       "      <td>1455</td>\n",
       "      <td>1.52</td>\n",
       "      <td>61.0</td>\n",
       "      <td>1.71</td>\n",
       "      <td>4.19</td>\n",
       "      <td>AR</td>\n",
       "      <td>0.912230</td>\n",
       "    </tr>\n",
       "    <tr>\n",
       "      <th>3</th>\n",
       "      <td>AZ</td>\n",
       "      <td>898</td>\n",
       "      <td>0.94</td>\n",
       "      <td>41.0</td>\n",
       "      <td>1.15</td>\n",
       "      <td>4.57</td>\n",
       "      <td>AZ</td>\n",
       "      <td>2.200231</td>\n",
       "    </tr>\n",
       "    <tr>\n",
       "      <th>4</th>\n",
       "      <td>CA</td>\n",
       "      <td>1674</td>\n",
       "      <td>1.75</td>\n",
       "      <td>59.0</td>\n",
       "      <td>1.66</td>\n",
       "      <td>3.52</td>\n",
       "      <td>CA</td>\n",
       "      <td>11.943864</td>\n",
       "    </tr>\n",
       "    <tr>\n",
       "      <th>5</th>\n",
       "      <td>CO</td>\n",
       "      <td>774</td>\n",
       "      <td>0.81</td>\n",
       "      <td>8.0</td>\n",
       "      <td>0.22</td>\n",
       "      <td>1.03</td>\n",
       "      <td>CO</td>\n",
       "      <td>1.740767</td>\n",
       "    </tr>\n",
       "    <tr>\n",
       "      <th>6</th>\n",
       "      <td>CT</td>\n",
       "      <td>3763</td>\n",
       "      <td>3.94</td>\n",
       "      <td>103.0</td>\n",
       "      <td>2.90</td>\n",
       "      <td>2.74</td>\n",
       "      <td>CT</td>\n",
       "      <td>1.077725</td>\n",
       "    </tr>\n",
       "    <tr>\n",
       "      <th>7</th>\n",
       "      <td>DC</td>\n",
       "      <td>32</td>\n",
       "      <td>0.03</td>\n",
       "      <td>NaN</td>\n",
       "      <td>NaN</td>\n",
       "      <td>NaN</td>\n",
       "      <td>DC</td>\n",
       "      <td>0.213336</td>\n",
       "    </tr>\n",
       "    <tr>\n",
       "      <th>8</th>\n",
       "      <td>DE</td>\n",
       "      <td>325</td>\n",
       "      <td>0.34</td>\n",
       "      <td>5.0</td>\n",
       "      <td>0.14</td>\n",
       "      <td>1.54</td>\n",
       "      <td>DE</td>\n",
       "      <td>0.294352</td>\n",
       "    </tr>\n",
       "    <tr>\n",
       "      <th>9</th>\n",
       "      <td>FL</td>\n",
       "      <td>4301</td>\n",
       "      <td>4.50</td>\n",
       "      <td>529.0</td>\n",
       "      <td>14.87</td>\n",
       "      <td>12.30</td>\n",
       "      <td>FL</td>\n",
       "      <td>6.492350</td>\n",
       "    </tr>\n",
       "    <tr>\n",
       "      <th>10</th>\n",
       "      <td>GA</td>\n",
       "      <td>3357</td>\n",
       "      <td>3.51</td>\n",
       "      <td>62.0</td>\n",
       "      <td>1.74</td>\n",
       "      <td>1.85</td>\n",
       "      <td>GA</td>\n",
       "      <td>3.209464</td>\n",
       "    </tr>\n",
       "    <tr>\n",
       "      <th>11</th>\n",
       "      <td>HI</td>\n",
       "      <td>22</td>\n",
       "      <td>0.02</td>\n",
       "      <td>2.0</td>\n",
       "      <td>0.06</td>\n",
       "      <td>9.09</td>\n",
       "      <td>HI</td>\n",
       "      <td>0.427994</td>\n",
       "    </tr>\n",
       "    <tr>\n",
       "      <th>12</th>\n",
       "      <td>IA</td>\n",
       "      <td>648</td>\n",
       "      <td>0.68</td>\n",
       "      <td>22.0</td>\n",
       "      <td>0.62</td>\n",
       "      <td>3.40</td>\n",
       "      <td>IA</td>\n",
       "      <td>0.953723</td>\n",
       "    </tr>\n",
       "    <tr>\n",
       "      <th>13</th>\n",
       "      <td>ID</td>\n",
       "      <td>260</td>\n",
       "      <td>0.27</td>\n",
       "      <td>5.0</td>\n",
       "      <td>0.14</td>\n",
       "      <td>1.92</td>\n",
       "      <td>ID</td>\n",
       "      <td>0.540199</td>\n",
       "    </tr>\n",
       "    <tr>\n",
       "      <th>14</th>\n",
       "      <td>IL</td>\n",
       "      <td>5024</td>\n",
       "      <td>5.26</td>\n",
       "      <td>110.0</td>\n",
       "      <td>3.09</td>\n",
       "      <td>2.19</td>\n",
       "      <td>IL</td>\n",
       "      <td>3.830473</td>\n",
       "    </tr>\n",
       "    <tr>\n",
       "      <th>15</th>\n",
       "      <td>IN</td>\n",
       "      <td>2869</td>\n",
       "      <td>3.00</td>\n",
       "      <td>53.0</td>\n",
       "      <td>1.49</td>\n",
       "      <td>1.85</td>\n",
       "      <td>IN</td>\n",
       "      <td>2.035034</td>\n",
       "    </tr>\n",
       "    <tr>\n",
       "      <th>16</th>\n",
       "      <td>KS</td>\n",
       "      <td>2011</td>\n",
       "      <td>2.10</td>\n",
       "      <td>49.0</td>\n",
       "      <td>1.38</td>\n",
       "      <td>2.44</td>\n",
       "      <td>KS</td>\n",
       "      <td>0.880645</td>\n",
       "    </tr>\n",
       "    <tr>\n",
       "      <th>17</th>\n",
       "      <td>KY</td>\n",
       "      <td>2027</td>\n",
       "      <td>2.12</td>\n",
       "      <td>115.0</td>\n",
       "      <td>3.23</td>\n",
       "      <td>5.67</td>\n",
       "      <td>KY</td>\n",
       "      <td>1.350501</td>\n",
       "    </tr>\n",
       "    <tr>\n",
       "      <th>18</th>\n",
       "      <td>LA</td>\n",
       "      <td>2178</td>\n",
       "      <td>2.28</td>\n",
       "      <td>455.0</td>\n",
       "      <td>12.79</td>\n",
       "      <td>20.89</td>\n",
       "      <td>LA</td>\n",
       "      <td>1.405250</td>\n",
       "    </tr>\n",
       "    <tr>\n",
       "      <th>19</th>\n",
       "      <td>MA</td>\n",
       "      <td>739</td>\n",
       "      <td>0.77</td>\n",
       "      <td>13.0</td>\n",
       "      <td>0.37</td>\n",
       "      <td>1.76</td>\n",
       "      <td>MA</td>\n",
       "      <td>2.083485</td>\n",
       "    </tr>\n",
       "    <tr>\n",
       "      <th>20</th>\n",
       "      <td>MD</td>\n",
       "      <td>3476</td>\n",
       "      <td>3.64</td>\n",
       "      <td>46.0</td>\n",
       "      <td>1.29</td>\n",
       "      <td>1.32</td>\n",
       "      <td>MD</td>\n",
       "      <td>1.827505</td>\n",
       "    </tr>\n",
       "    <tr>\n",
       "      <th>21</th>\n",
       "      <td>ME</td>\n",
       "      <td>405</td>\n",
       "      <td>0.42</td>\n",
       "      <td>NaN</td>\n",
       "      <td>NaN</td>\n",
       "      <td>NaN</td>\n",
       "      <td>ME</td>\n",
       "      <td>0.406332</td>\n",
       "    </tr>\n",
       "    <tr>\n",
       "      <th>22</th>\n",
       "      <td>MI</td>\n",
       "      <td>3821</td>\n",
       "      <td>4.00</td>\n",
       "      <td>60.0</td>\n",
       "      <td>1.69</td>\n",
       "      <td>1.57</td>\n",
       "      <td>MI</td>\n",
       "      <td>3.018855</td>\n",
       "    </tr>\n",
       "    <tr>\n",
       "      <th>23</th>\n",
       "      <td>MN</td>\n",
       "      <td>1043</td>\n",
       "      <td>1.09</td>\n",
       "      <td>5.0</td>\n",
       "      <td>0.14</td>\n",
       "      <td>0.48</td>\n",
       "      <td>MN</td>\n",
       "      <td>1.704764</td>\n",
       "    </tr>\n",
       "    <tr>\n",
       "      <th>24</th>\n",
       "      <td>MO</td>\n",
       "      <td>2871</td>\n",
       "      <td>3.00</td>\n",
       "      <td>46.0</td>\n",
       "      <td>1.29</td>\n",
       "      <td>1.60</td>\n",
       "      <td>MO</td>\n",
       "      <td>1.855239</td>\n",
       "    </tr>\n",
       "    <tr>\n",
       "      <th>25</th>\n",
       "      <td>MS</td>\n",
       "      <td>1485</td>\n",
       "      <td>1.55</td>\n",
       "      <td>154.0</td>\n",
       "      <td>4.33</td>\n",
       "      <td>10.37</td>\n",
       "      <td>MS</td>\n",
       "      <td>0.899639</td>\n",
       "    </tr>\n",
       "    <tr>\n",
       "      <th>26</th>\n",
       "      <td>MT</td>\n",
       "      <td>287</td>\n",
       "      <td>0.30</td>\n",
       "      <td>2.0</td>\n",
       "      <td>0.06</td>\n",
       "      <td>0.70</td>\n",
       "      <td>MT</td>\n",
       "      <td>0.323073</td>\n",
       "    </tr>\n",
       "    <tr>\n",
       "      <th>27</th>\n",
       "      <td>NC</td>\n",
       "      <td>2351</td>\n",
       "      <td>2.46</td>\n",
       "      <td>46.0</td>\n",
       "      <td>1.29</td>\n",
       "      <td>1.96</td>\n",
       "      <td>NC</td>\n",
       "      <td>3.170367</td>\n",
       "    </tr>\n",
       "    <tr>\n",
       "      <th>28</th>\n",
       "      <td>ND</td>\n",
       "      <td>266</td>\n",
       "      <td>0.28</td>\n",
       "      <td>9.0</td>\n",
       "      <td>0.25</td>\n",
       "      <td>3.38</td>\n",
       "      <td>ND</td>\n",
       "      <td>0.230358</td>\n",
       "    </tr>\n",
       "    <tr>\n",
       "      <th>29</th>\n",
       "      <td>NE</td>\n",
       "      <td>294</td>\n",
       "      <td>0.31</td>\n",
       "      <td>3.0</td>\n",
       "      <td>0.08</td>\n",
       "      <td>1.02</td>\n",
       "      <td>NE</td>\n",
       "      <td>0.584738</td>\n",
       "    </tr>\n",
       "    <tr>\n",
       "      <th>30</th>\n",
       "      <td>NH</td>\n",
       "      <td>451</td>\n",
       "      <td>0.47</td>\n",
       "      <td>10.0</td>\n",
       "      <td>0.28</td>\n",
       "      <td>2.22</td>\n",
       "      <td>NH</td>\n",
       "      <td>0.411017</td>\n",
       "    </tr>\n",
       "    <tr>\n",
       "      <th>31</th>\n",
       "      <td>NJ</td>\n",
       "      <td>4201</td>\n",
       "      <td>4.40</td>\n",
       "      <td>299.0</td>\n",
       "      <td>8.41</td>\n",
       "      <td>7.12</td>\n",
       "      <td>NJ</td>\n",
       "      <td>2.684933</td>\n",
       "    </tr>\n",
       "    <tr>\n",
       "      <th>32</th>\n",
       "      <td>NM</td>\n",
       "      <td>1122</td>\n",
       "      <td>1.17</td>\n",
       "      <td>80.0</td>\n",
       "      <td>2.25</td>\n",
       "      <td>7.13</td>\n",
       "      <td>NM</td>\n",
       "      <td>0.633835</td>\n",
       "    </tr>\n",
       "    <tr>\n",
       "      <th>33</th>\n",
       "      <td>NV</td>\n",
       "      <td>458</td>\n",
       "      <td>0.48</td>\n",
       "      <td>24.0</td>\n",
       "      <td>0.67</td>\n",
       "      <td>5.24</td>\n",
       "      <td>NV</td>\n",
       "      <td>0.931078</td>\n",
       "    </tr>\n",
       "    <tr>\n",
       "      <th>34</th>\n",
       "      <td>NY</td>\n",
       "      <td>2990</td>\n",
       "      <td>3.13</td>\n",
       "      <td>68.0</td>\n",
       "      <td>1.91</td>\n",
       "      <td>2.27</td>\n",
       "      <td>NY</td>\n",
       "      <td>5.880476</td>\n",
       "    </tr>\n",
       "    <tr>\n",
       "      <th>35</th>\n",
       "      <td>OH</td>\n",
       "      <td>5812</td>\n",
       "      <td>6.08</td>\n",
       "      <td>111.0</td>\n",
       "      <td>3.12</td>\n",
       "      <td>1.91</td>\n",
       "      <td>OH</td>\n",
       "      <td>3.533413</td>\n",
       "    </tr>\n",
       "    <tr>\n",
       "      <th>36</th>\n",
       "      <td>OK</td>\n",
       "      <td>2885</td>\n",
       "      <td>3.02</td>\n",
       "      <td>86.0</td>\n",
       "      <td>2.42</td>\n",
       "      <td>2.98</td>\n",
       "      <td>OK</td>\n",
       "      <td>1.196124</td>\n",
       "    </tr>\n",
       "    <tr>\n",
       "      <th>37</th>\n",
       "      <td>OR</td>\n",
       "      <td>592</td>\n",
       "      <td>0.62</td>\n",
       "      <td>14.0</td>\n",
       "      <td>0.39</td>\n",
       "      <td>2.36</td>\n",
       "      <td>OR</td>\n",
       "      <td>1.274949</td>\n",
       "    </tr>\n",
       "    <tr>\n",
       "      <th>38</th>\n",
       "      <td>PA</td>\n",
       "      <td>4476</td>\n",
       "      <td>4.68</td>\n",
       "      <td>143.0</td>\n",
       "      <td>4.02</td>\n",
       "      <td>3.19</td>\n",
       "      <td>PA</td>\n",
       "      <td>3.869821</td>\n",
       "    </tr>\n",
       "    <tr>\n",
       "      <th>39</th>\n",
       "      <td>PR</td>\n",
       "      <td>3320</td>\n",
       "      <td>3.47</td>\n",
       "      <td>NaN</td>\n",
       "      <td>NaN</td>\n",
       "      <td>NaN</td>\n",
       "      <td>PR</td>\n",
       "      <td>0.965399</td>\n",
       "    </tr>\n",
       "    <tr>\n",
       "      <th>40</th>\n",
       "      <td>RI</td>\n",
       "      <td>290</td>\n",
       "      <td>0.30</td>\n",
       "      <td>3.0</td>\n",
       "      <td>0.08</td>\n",
       "      <td>1.03</td>\n",
       "      <td>RI</td>\n",
       "      <td>0.320227</td>\n",
       "    </tr>\n",
       "    <tr>\n",
       "      <th>41</th>\n",
       "      <td>SC</td>\n",
       "      <td>1502</td>\n",
       "      <td>1.57</td>\n",
       "      <td>13.0</td>\n",
       "      <td>0.37</td>\n",
       "      <td>0.87</td>\n",
       "      <td>SC</td>\n",
       "      <td>1.556368</td>\n",
       "    </tr>\n",
       "    <tr>\n",
       "      <th>42</th>\n",
       "      <td>SD</td>\n",
       "      <td>190</td>\n",
       "      <td>0.20</td>\n",
       "      <td>1.0</td>\n",
       "      <td>0.03</td>\n",
       "      <td>0.53</td>\n",
       "      <td>SD</td>\n",
       "      <td>0.267417</td>\n",
       "    </tr>\n",
       "    <tr>\n",
       "      <th>43</th>\n",
       "      <td>TN</td>\n",
       "      <td>2093</td>\n",
       "      <td>2.19</td>\n",
       "      <td>32.0</td>\n",
       "      <td>0.90</td>\n",
       "      <td>1.53</td>\n",
       "      <td>TN</td>\n",
       "      <td>2.064342</td>\n",
       "    </tr>\n",
       "    <tr>\n",
       "      <th>44</th>\n",
       "      <td>TX</td>\n",
       "      <td>5412</td>\n",
       "      <td>5.66</td>\n",
       "      <td>186.0</td>\n",
       "      <td>5.23</td>\n",
       "      <td>3.44</td>\n",
       "      <td>TX</td>\n",
       "      <td>8.764955</td>\n",
       "    </tr>\n",
       "    <tr>\n",
       "      <th>45</th>\n",
       "      <td>UT</td>\n",
       "      <td>408</td>\n",
       "      <td>0.43</td>\n",
       "      <td>1.0</td>\n",
       "      <td>0.03</td>\n",
       "      <td>0.25</td>\n",
       "      <td>UT</td>\n",
       "      <td>0.969106</td>\n",
       "    </tr>\n",
       "    <tr>\n",
       "      <th>46</th>\n",
       "      <td>VA</td>\n",
       "      <td>3336</td>\n",
       "      <td>3.49</td>\n",
       "      <td>205.0</td>\n",
       "      <td>5.76</td>\n",
       "      <td>6.15</td>\n",
       "      <td>VA</td>\n",
       "      <td>2.580140</td>\n",
       "    </tr>\n",
       "    <tr>\n",
       "      <th>47</th>\n",
       "      <td>VI</td>\n",
       "      <td>10</td>\n",
       "      <td>0.01</td>\n",
       "      <td>NaN</td>\n",
       "      <td>NaN</td>\n",
       "      <td>NaN</td>\n",
       "      <td>NaN</td>\n",
       "      <td>NaN</td>\n",
       "    </tr>\n",
       "    <tr>\n",
       "      <th>48</th>\n",
       "      <td>VT</td>\n",
       "      <td>117</td>\n",
       "      <td>0.12</td>\n",
       "      <td>3.0</td>\n",
       "      <td>0.08</td>\n",
       "      <td>2.56</td>\n",
       "      <td>VT</td>\n",
       "      <td>0.188621</td>\n",
       "    </tr>\n",
       "    <tr>\n",
       "      <th>49</th>\n",
       "      <td>WA</td>\n",
       "      <td>1217</td>\n",
       "      <td>1.27</td>\n",
       "      <td>26.0</td>\n",
       "      <td>0.73</td>\n",
       "      <td>2.14</td>\n",
       "      <td>WA</td>\n",
       "      <td>2.301851</td>\n",
       "    </tr>\n",
       "    <tr>\n",
       "      <th>50</th>\n",
       "      <td>WI</td>\n",
       "      <td>1061</td>\n",
       "      <td>1.11</td>\n",
       "      <td>18.0</td>\n",
       "      <td>0.51</td>\n",
       "      <td>1.70</td>\n",
       "      <td>WI</td>\n",
       "      <td>1.760021</td>\n",
       "    </tr>\n",
       "    <tr>\n",
       "      <th>51</th>\n",
       "      <td>WV</td>\n",
       "      <td>745</td>\n",
       "      <td>0.78</td>\n",
       "      <td>71.0</td>\n",
       "      <td>2.00</td>\n",
       "      <td>9.53</td>\n",
       "      <td>WV</td>\n",
       "      <td>0.541735</td>\n",
       "    </tr>\n",
       "    <tr>\n",
       "      <th>52</th>\n",
       "      <td>WY</td>\n",
       "      <td>549</td>\n",
       "      <td>0.57</td>\n",
       "      <td>11.0</td>\n",
       "      <td>0.31</td>\n",
       "      <td>2.00</td>\n",
       "      <td>WY</td>\n",
       "      <td>0.174949</td>\n",
       "    </tr>\n",
       "  </tbody>\n",
       "</table>\n",
       "</div>"
      ],
      "text/plain": [
       "   index  hud_addr_cnt  pct_of_all_hud_homes  sfha_addr_cnt  \\\n",
       "0     AK           342                  0.36            5.0   \n",
       "1     AL          3332                  3.49           84.0   \n",
       "2     AR          1455                  1.52           61.0   \n",
       "3     AZ           898                  0.94           41.0   \n",
       "4     CA          1674                  1.75           59.0   \n",
       "5     CO           774                  0.81            8.0   \n",
       "6     CT          3763                  3.94          103.0   \n",
       "7     DC            32                  0.03            NaN   \n",
       "8     DE           325                  0.34            5.0   \n",
       "9     FL          4301                  4.50          529.0   \n",
       "10    GA          3357                  3.51           62.0   \n",
       "11    HI            22                  0.02            2.0   \n",
       "12    IA           648                  0.68           22.0   \n",
       "13    ID           260                  0.27            5.0   \n",
       "14    IL          5024                  5.26          110.0   \n",
       "15    IN          2869                  3.00           53.0   \n",
       "16    KS          2011                  2.10           49.0   \n",
       "17    KY          2027                  2.12          115.0   \n",
       "18    LA          2178                  2.28          455.0   \n",
       "19    MA           739                  0.77           13.0   \n",
       "20    MD          3476                  3.64           46.0   \n",
       "21    ME           405                  0.42            NaN   \n",
       "22    MI          3821                  4.00           60.0   \n",
       "23    MN          1043                  1.09            5.0   \n",
       "24    MO          2871                  3.00           46.0   \n",
       "25    MS          1485                  1.55          154.0   \n",
       "26    MT           287                  0.30            2.0   \n",
       "27    NC          2351                  2.46           46.0   \n",
       "28    ND           266                  0.28            9.0   \n",
       "29    NE           294                  0.31            3.0   \n",
       "30    NH           451                  0.47           10.0   \n",
       "31    NJ          4201                  4.40          299.0   \n",
       "32    NM          1122                  1.17           80.0   \n",
       "33    NV           458                  0.48           24.0   \n",
       "34    NY          2990                  3.13           68.0   \n",
       "35    OH          5812                  6.08          111.0   \n",
       "36    OK          2885                  3.02           86.0   \n",
       "37    OR           592                  0.62           14.0   \n",
       "38    PA          4476                  4.68          143.0   \n",
       "39    PR          3320                  3.47            NaN   \n",
       "40    RI           290                  0.30            3.0   \n",
       "41    SC          1502                  1.57           13.0   \n",
       "42    SD           190                  0.20            1.0   \n",
       "43    TN          2093                  2.19           32.0   \n",
       "44    TX          5412                  5.66          186.0   \n",
       "45    UT           408                  0.43            1.0   \n",
       "46    VA          3336                  3.49          205.0   \n",
       "47    VI            10                  0.01            NaN   \n",
       "48    VT           117                  0.12            3.0   \n",
       "49    WA          1217                  1.27           26.0   \n",
       "50    WI          1061                  1.11           18.0   \n",
       "51    WV           745                  0.78           71.0   \n",
       "52    WY           549                  0.57           11.0   \n",
       "\n",
       "    pct_of_all_fldz_homes  pct_of_hud_homes_in_fldz usps_abbr  pct_of_us_pop  \n",
       "0                    0.14                      1.46        AK       0.221133  \n",
       "1                    2.36                      2.52        AL       1.482148  \n",
       "2                    1.71                      4.19        AR       0.912230  \n",
       "3                    1.15                      4.57        AZ       2.200231  \n",
       "4                    1.66                      3.52        CA      11.943864  \n",
       "5                    0.22                      1.03        CO       1.740767  \n",
       "6                    2.90                      2.74        CT       1.077725  \n",
       "7                     NaN                       NaN        DC       0.213336  \n",
       "8                    0.14                      1.54        DE       0.294352  \n",
       "9                   14.87                     12.30        FL       6.492350  \n",
       "10                   1.74                      1.85        GA       3.209464  \n",
       "11                   0.06                      9.09        HI       0.427994  \n",
       "12                   0.62                      3.40        IA       0.953723  \n",
       "13                   0.14                      1.92        ID       0.540199  \n",
       "14                   3.09                      2.19        IL       3.830473  \n",
       "15                   1.49                      1.85        IN       2.035034  \n",
       "16                   1.38                      2.44        KS       0.880645  \n",
       "17                   3.23                      5.67        KY       1.350501  \n",
       "18                  12.79                     20.89        LA       1.405250  \n",
       "19                   0.37                      1.76        MA       2.083485  \n",
       "20                   1.29                      1.32        MD       1.827505  \n",
       "21                    NaN                       NaN        ME       0.406332  \n",
       "22                   1.69                      1.57        MI       3.018855  \n",
       "23                   0.14                      0.48        MN       1.704764  \n",
       "24                   1.29                      1.60        MO       1.855239  \n",
       "25                   4.33                     10.37        MS       0.899639  \n",
       "26                   0.06                      0.70        MT       0.323073  \n",
       "27                   1.29                      1.96        NC       3.170367  \n",
       "28                   0.25                      3.38        ND       0.230358  \n",
       "29                   0.08                      1.02        NE       0.584738  \n",
       "30                   0.28                      2.22        NH       0.411017  \n",
       "31                   8.41                      7.12        NJ       2.684933  \n",
       "32                   2.25                      7.13        NM       0.633835  \n",
       "33                   0.67                      5.24        NV       0.931078  \n",
       "34                   1.91                      2.27        NY       5.880476  \n",
       "35                   3.12                      1.91        OH       3.533413  \n",
       "36                   2.42                      2.98        OK       1.196124  \n",
       "37                   0.39                      2.36        OR       1.274949  \n",
       "38                   4.02                      3.19        PA       3.869821  \n",
       "39                    NaN                       NaN        PR       0.965399  \n",
       "40                   0.08                      1.03        RI       0.320227  \n",
       "41                   0.37                      0.87        SC       1.556368  \n",
       "42                   0.03                      0.53        SD       0.267417  \n",
       "43                   0.90                      1.53        TN       2.064342  \n",
       "44                   5.23                      3.44        TX       8.764955  \n",
       "45                   0.03                      0.25        UT       0.969106  \n",
       "46                   5.76                      6.15        VA       2.580140  \n",
       "47                    NaN                       NaN       NaN            NaN  \n",
       "48                   0.08                      2.56        VT       0.188621  \n",
       "49                   0.73                      2.14        WA       2.301851  \n",
       "50                   0.51                      1.70        WI       1.760021  \n",
       "51                   2.00                      9.53        WV       0.541735  \n",
       "52                   0.31                      2.00        WY       0.174949  "
      ]
     },
     "execution_count": 112,
     "metadata": {},
     "output_type": "execute_result"
    }
   ],
   "source": [
    "statehomecnt1"
   ]
  }
 ],
 "metadata": {
  "kernelspec": {
   "display_name": "Python 3",
   "language": "python",
   "name": "python3"
  },
  "language_info": {
   "codemirror_mode": {
    "name": "ipython",
    "version": 3
   },
   "file_extension": ".py",
   "mimetype": "text/x-python",
   "name": "python",
   "nbconvert_exporter": "python",
   "pygments_lexer": "ipython3",
   "version": "3.6.12"
  }
 },
 "nbformat": 4,
 "nbformat_minor": 4
}
